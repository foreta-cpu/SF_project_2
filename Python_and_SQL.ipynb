{
  "cells": [
    {
      "cell_type": "markdown",
      "id": "1198b4b3",
      "metadata": {},
      "source": [
        "<center> <img src = https://raw.githubusercontent.com/AndreyRysistov/DatasetsForPandas/main/hh%20label.jpg alt=\"drawing\" style=\"width:400px;\">"
      ]
    },
    {
      "cell_type": "markdown",
      "id": "c6e1aa88",
      "metadata": {},
      "source": [
        "# <center> Проект: Анализ резюме из HeadHunter. 2"
      ]
    },
    {
      "cell_type": "markdown",
      "id": "963361ba",
      "metadata": {
        "id": "963361ba"
      },
      "source": [
        "### Настройки"
      ]
    },
    {
      "cell_type": "markdown",
      "id": "BAOI-9wun13V",
      "metadata": {
        "id": "BAOI-9wun13V"
      },
      "source": [
        "Начинаем с импорта библиотек"
      ]
    },
    {
      "cell_type": "code",
      "execution_count": 1,
      "id": "928bd544",
      "metadata": {
        "id": "928bd544"
      },
      "outputs": [],
      "source": [
        "import pandas as pd\n",
        "import psycopg2"
      ]
    },
    {
      "cell_type": "markdown",
      "id": "d68dbfa7",
      "metadata": {},
      "source": []
    },
    {
      "cell_type": "code",
      "execution_count": 2,
      "id": "hs66HgVWqgRA",
      "metadata": {
        "id": "hs66HgVWqgRA"
      },
      "outputs": [],
      "source": [
        "# хороший тон при фиксации изменений в github не публиковать код с открытыми данными для входа\n",
        "# для запуска кода поместите данные, которые указаны на странице курса в эту ячейку\n",
        "# при размещении в github удалите эту ячейку"
      ]
    },
    {
      "cell_type": "markdown",
      "id": "TEgQI_RKfqa9",
      "metadata": {
        "id": "TEgQI_RKfqa9"
      },
      "source": [
        "Создаем соединение с заданными параметрами"
      ]
    },
    {
      "cell_type": "markdown",
      "id": "06k1EnoRiC-I",
      "metadata": {
        "id": "06k1EnoRiC-I"
      },
      "source": [
        "Запрос"
      ]
    },
    {
      "cell_type": "code",
      "execution_count": 4,
      "id": "35e24169",
      "metadata": {
        "id": "35e24169"
      },
      "outputs": [],
      "source": [
        "# код запроса представляет из себя строковую переменную\n",
        "n = 10\n",
        "query = f'''select * \n",
        "            from sql.pokemon \n",
        "            limit {n}\n",
        "         '''\n",
        "# лучше использовать f-строки - так удобнее передавать параметры"
      ]
    },
    {
      "cell_type": "markdown",
      "id": "52648c9f",
      "metadata": {
        "id": "52648c9f"
      },
      "source": [
        "### Выполнение запроса"
      ]
    },
    {
      "cell_type": "code",
      "execution_count": 5,
      "id": "2fe9f6eb",
      "metadata": {
        "colab": {
          "base_uri": "https://localhost:8080/",
          "height": 363
        },
        "id": "2fe9f6eb",
        "outputId": "771dd6f1-4300-4076-e462-d7ce388295d5"
      },
      "outputs": [
        {
          "name": "stderr",
          "output_type": "stream",
          "text": [
            "C:\\Users\\foret\\AppData\\Local\\Temp\\ipykernel_8532\\2473184231.py:2: UserWarning: pandas only supports SQLAlchemy connectable (engine/connection) or database string URI or sqlite3 DBAPI2 connection. Other DBAPI2 objects are not tested. Please consider using SQLAlchemy.\n",
            "  df = pd.read_sql_query(query, connection)\n"
          ]
        },
        {
          "data": {
            "text/html": [
              "<div>\n",
              "<style scoped>\n",
              "    .dataframe tbody tr th:only-of-type {\n",
              "        vertical-align: middle;\n",
              "    }\n",
              "\n",
              "    .dataframe tbody tr th {\n",
              "        vertical-align: top;\n",
              "    }\n",
              "\n",
              "    .dataframe thead th {\n",
              "        text-align: right;\n",
              "    }\n",
              "</style>\n",
              "<table border=\"1\" class=\"dataframe\">\n",
              "  <thead>\n",
              "    <tr style=\"text-align: right;\">\n",
              "      <th></th>\n",
              "      <th>id</th>\n",
              "      <th>name</th>\n",
              "      <th>type1</th>\n",
              "      <th>type2</th>\n",
              "      <th>hp</th>\n",
              "      <th>attack</th>\n",
              "      <th>defense</th>\n",
              "      <th>speed</th>\n",
              "    </tr>\n",
              "  </thead>\n",
              "  <tbody>\n",
              "    <tr>\n",
              "      <th>0</th>\n",
              "      <td>1</td>\n",
              "      <td>Bulbasaur</td>\n",
              "      <td>Grass</td>\n",
              "      <td>Poison</td>\n",
              "      <td>45</td>\n",
              "      <td>49</td>\n",
              "      <td>49</td>\n",
              "      <td>45</td>\n",
              "    </tr>\n",
              "    <tr>\n",
              "      <th>1</th>\n",
              "      <td>2</td>\n",
              "      <td>Ivysaur</td>\n",
              "      <td>Grass</td>\n",
              "      <td>Poison</td>\n",
              "      <td>60</td>\n",
              "      <td>62</td>\n",
              "      <td>63</td>\n",
              "      <td>60</td>\n",
              "    </tr>\n",
              "    <tr>\n",
              "      <th>2</th>\n",
              "      <td>3</td>\n",
              "      <td>Venusaur</td>\n",
              "      <td>Grass</td>\n",
              "      <td>Poison</td>\n",
              "      <td>80</td>\n",
              "      <td>82</td>\n",
              "      <td>83</td>\n",
              "      <td>80</td>\n",
              "    </tr>\n",
              "    <tr>\n",
              "      <th>3</th>\n",
              "      <td>4</td>\n",
              "      <td>VenusaurMega Venusaur</td>\n",
              "      <td>Grass</td>\n",
              "      <td>Poison</td>\n",
              "      <td>80</td>\n",
              "      <td>100</td>\n",
              "      <td>123</td>\n",
              "      <td>80</td>\n",
              "    </tr>\n",
              "    <tr>\n",
              "      <th>4</th>\n",
              "      <td>7</td>\n",
              "      <td>Charizard</td>\n",
              "      <td>Fire</td>\n",
              "      <td>Flying</td>\n",
              "      <td>78</td>\n",
              "      <td>84</td>\n",
              "      <td>78</td>\n",
              "      <td>100</td>\n",
              "    </tr>\n",
              "    <tr>\n",
              "      <th>5</th>\n",
              "      <td>8</td>\n",
              "      <td>CharizardMega Charizard X</td>\n",
              "      <td>Fire</td>\n",
              "      <td>Dragon</td>\n",
              "      <td>78</td>\n",
              "      <td>130</td>\n",
              "      <td>111</td>\n",
              "      <td>100</td>\n",
              "    </tr>\n",
              "    <tr>\n",
              "      <th>6</th>\n",
              "      <td>9</td>\n",
              "      <td>CharizardMega Charizard Y</td>\n",
              "      <td>Fire</td>\n",
              "      <td>Flying</td>\n",
              "      <td>78</td>\n",
              "      <td>104</td>\n",
              "      <td>78</td>\n",
              "      <td>100</td>\n",
              "    </tr>\n",
              "    <tr>\n",
              "      <th>7</th>\n",
              "      <td>16</td>\n",
              "      <td>Butterfree</td>\n",
              "      <td>Bug</td>\n",
              "      <td>Flying</td>\n",
              "      <td>60</td>\n",
              "      <td>45</td>\n",
              "      <td>50</td>\n",
              "      <td>70</td>\n",
              "    </tr>\n",
              "    <tr>\n",
              "      <th>8</th>\n",
              "      <td>17</td>\n",
              "      <td>Weedle</td>\n",
              "      <td>Bug</td>\n",
              "      <td>Poison</td>\n",
              "      <td>40</td>\n",
              "      <td>35</td>\n",
              "      <td>30</td>\n",
              "      <td>50</td>\n",
              "    </tr>\n",
              "    <tr>\n",
              "      <th>9</th>\n",
              "      <td>18</td>\n",
              "      <td>Kakuna</td>\n",
              "      <td>Bug</td>\n",
              "      <td>Poison</td>\n",
              "      <td>45</td>\n",
              "      <td>25</td>\n",
              "      <td>50</td>\n",
              "      <td>35</td>\n",
              "    </tr>\n",
              "  </tbody>\n",
              "</table>\n",
              "</div>"
            ],
            "text/plain": [
              "   id                       name  type1   type2  hp  attack  defense  speed\n",
              "0   1                  Bulbasaur  Grass  Poison  45      49       49     45\n",
              "1   2                    Ivysaur  Grass  Poison  60      62       63     60\n",
              "2   3                   Venusaur  Grass  Poison  80      82       83     80\n",
              "3   4      VenusaurMega Venusaur  Grass  Poison  80     100      123     80\n",
              "4   7                  Charizard   Fire  Flying  78      84       78    100\n",
              "5   8  CharizardMega Charizard X   Fire  Dragon  78     130      111    100\n",
              "6   9  CharizardMega Charizard Y   Fire  Flying  78     104       78    100\n",
              "7  16                 Butterfree    Bug  Flying  60      45       50     70\n",
              "8  17                     Weedle    Bug  Poison  40      35       30     50\n",
              "9  18                     Kakuna    Bug  Poison  45      25       50     35"
            ]
          },
          "execution_count": 5,
          "metadata": {},
          "output_type": "execute_result"
        }
      ],
      "source": [
        "# используем метод read_sql_query, чтобы получить результаты запроса сразу в виде датафрейма\n",
        "df = pd.read_sql_query(query, connection)\n",
        "df"
      ]
    },
    {
      "cell_type": "markdown",
      "id": "622e62c1",
      "metadata": {
        "id": "622e62c1"
      },
      "source": [
        "### Финал"
      ]
    },
    {
      "cell_type": "code",
      "execution_count": 6,
      "id": "8a103f6a",
      "metadata": {
        "id": "8a103f6a"
      },
      "outputs": [],
      "source": [
        "# не забываем закрыть соединение после окончания работы\n",
        "connection.close()"
      ]
    },
    {
      "cell_type": "code",
      "execution_count": 7,
      "id": "c35a4a96",
      "metadata": {},
      "outputs": [],
      "source": [
        "import psycopg2\n",
        "\n",
        "connection = psycopg2.connect(\n",
        "    dbname='project_sql',  # Имя базы данных\n",
        "    user='skillfactory',   # Имя пользователя\n",
        "    password='cCkxxLVrDE8EbvjueeMedPKt',  # Пароль\n",
        "    host='84.201.134.129',  # Хост\n",
        "    port=5432               # Порт\n",
        ")"
      ]
    },
    {
      "cell_type": "markdown",
      "id": "449721ec",
      "metadata": {},
      "source": [
        "=================================================================================================================================================================================="
      ]
    },
    {
      "cell_type": "markdown",
      "id": "062ceb1e",
      "metadata": {},
      "source": [
        "### Посмотрим на наши таблицы и их структуру"
      ]
    },
    {
      "attachments": {
        "image.png": {
          "image/png": "[encoded data removed]"
        }
      },
      "cell_type": "markdown",
      "id": "acb73d58",
      "metadata": {},
      "source": [
        "![image.png](attachment:image.png)"
      ]
    },
    {
      "cell_type": "markdown",
      "id": "1a1e2f34",
      "metadata": {},
      "source": [
        "#### 1. таблица vacancies"
      ]
    },
    {
      "cell_type": "code",
      "execution_count": 8,
      "id": "62c2c724",
      "metadata": {},
      "outputs": [
        {
          "name": "stderr",
          "output_type": "stream",
          "text": [
            "C:\\Users\\foret\\AppData\\Local\\Temp\\ipykernel_8532\\3560306697.py:5: UserWarning: pandas only supports SQLAlchemy connectable (engine/connection) or database string URI or sqlite3 DBAPI2 connection. Other DBAPI2 objects are not tested. Please consider using SQLAlchemy.\n",
            "  df = pd.read_sql_query(query, connection)\n"
          ]
        },
        {
          "data": {
            "text/html": [
              "<div>\n",
              "<style scoped>\n",
              "    .dataframe tbody tr th:only-of-type {\n",
              "        vertical-align: middle;\n",
              "    }\n",
              "\n",
              "    .dataframe tbody tr th {\n",
              "        vertical-align: top;\n",
              "    }\n",
              "\n",
              "    .dataframe thead th {\n",
              "        text-align: right;\n",
              "    }\n",
              "</style>\n",
              "<table border=\"1\" class=\"dataframe\">\n",
              "  <thead>\n",
              "    <tr style=\"text-align: right;\">\n",
              "      <th></th>\n",
              "      <th>id</th>\n",
              "      <th>name</th>\n",
              "      <th>key_skills</th>\n",
              "      <th>schedule</th>\n",
              "      <th>experience</th>\n",
              "      <th>employment</th>\n",
              "      <th>salary_from</th>\n",
              "      <th>salary_to</th>\n",
              "      <th>area_id</th>\n",
              "      <th>employer_id</th>\n",
              "    </tr>\n",
              "  </thead>\n",
              "  <tbody>\n",
              "    <tr>\n",
              "      <th>0</th>\n",
              "      <td>55312386</td>\n",
              "      <td>Компьютерный Мастер</td>\n",
              "      <td>Пользователь ПК\\tРабота в команде\\tРемонт ноут...</td>\n",
              "      <td>Полный день</td>\n",
              "      <td>Нет опыта</td>\n",
              "      <td>Полная занятость</td>\n",
              "      <td>64000.0</td>\n",
              "      <td>NaN</td>\n",
              "      <td>1516</td>\n",
              "      <td>5724811</td>\n",
              "    </tr>\n",
              "    <tr>\n",
              "      <th>1</th>\n",
              "      <td>55843014</td>\n",
              "      <td>Системный администратор</td>\n",
              "      <td>Средства криптографической защиты информации\\t...</td>\n",
              "      <td>Полный день</td>\n",
              "      <td>От 3 до 6 лет</td>\n",
              "      <td>Полная занятость</td>\n",
              "      <td>NaN</td>\n",
              "      <td>NaN</td>\n",
              "      <td>130</td>\n",
              "      <td>4903713</td>\n",
              "    </tr>\n",
              "    <tr>\n",
              "      <th>2</th>\n",
              "      <td>54525964</td>\n",
              "      <td>Lead Java Developer to Poland</td>\n",
              "      <td>Spring Framework\\tSQL\\tHibernate ORM\\tJava\\tGit</td>\n",
              "      <td>Удаленная работа</td>\n",
              "      <td>От 3 до 6 лет</td>\n",
              "      <td>Полная занятость</td>\n",
              "      <td>NaN</td>\n",
              "      <td>NaN</td>\n",
              "      <td>160</td>\n",
              "      <td>69961</td>\n",
              "    </tr>\n",
              "    <tr>\n",
              "      <th>3</th>\n",
              "      <td>54525965</td>\n",
              "      <td>Lead Java Developer to Poland</td>\n",
              "      <td>Spring Framework\\tSQL\\tHibernate ORM\\tJava\\tGit</td>\n",
              "      <td>Удаленная работа</td>\n",
              "      <td>От 3 до 6 лет</td>\n",
              "      <td>Полная занятость</td>\n",
              "      <td>NaN</td>\n",
              "      <td>NaN</td>\n",
              "      <td>159</td>\n",
              "      <td>69961</td>\n",
              "    </tr>\n",
              "    <tr>\n",
              "      <th>4</th>\n",
              "      <td>55354053</td>\n",
              "      <td>Специалист службы поддержки с техническими зна...</td>\n",
              "      <td>None</td>\n",
              "      <td>Удаленная работа</td>\n",
              "      <td>Нет опыта</td>\n",
              "      <td>Частичная занятость</td>\n",
              "      <td>15000.0</td>\n",
              "      <td>NaN</td>\n",
              "      <td>1955</td>\n",
              "      <td>1740</td>\n",
              "    </tr>\n",
              "    <tr>\n",
              "      <th>...</th>\n",
              "      <td>...</td>\n",
              "      <td>...</td>\n",
              "      <td>...</td>\n",
              "      <td>...</td>\n",
              "      <td>...</td>\n",
              "      <td>...</td>\n",
              "      <td>...</td>\n",
              "      <td>...</td>\n",
              "      <td>...</td>\n",
              "      <td>...</td>\n",
              "    </tr>\n",
              "    <tr>\n",
              "      <th>49192</th>\n",
              "      <td>55589514</td>\n",
              "      <td>Специалист по информационным технологиям</td>\n",
              "      <td>Электронный документооборот\\t1С: Предприятие 8...</td>\n",
              "      <td>Полный день</td>\n",
              "      <td>От 3 до 6 лет</td>\n",
              "      <td>Полная занятость</td>\n",
              "      <td>NaN</td>\n",
              "      <td>NaN</td>\n",
              "      <td>66</td>\n",
              "      <td>5109332</td>\n",
              "    </tr>\n",
              "    <tr>\n",
              "      <th>49193</th>\n",
              "      <td>55029668</td>\n",
              "      <td>Руководитель процессного офиса</td>\n",
              "      <td>Оптимизация бизнес-процессов\\tСтратегическое м...</td>\n",
              "      <td>Полный день</td>\n",
              "      <td>От 3 до 6 лет</td>\n",
              "      <td>Полная занятость</td>\n",
              "      <td>NaN</td>\n",
              "      <td>NaN</td>\n",
              "      <td>26</td>\n",
              "      <td>51333</td>\n",
              "    </tr>\n",
              "    <tr>\n",
              "      <th>49194</th>\n",
              "      <td>66172263</td>\n",
              "      <td>Начальник сервисной службы</td>\n",
              "      <td>Организаторские навыки\\tУправление персоналом\\...</td>\n",
              "      <td>Полный день</td>\n",
              "      <td>От 1 года до 3 лет</td>\n",
              "      <td>Полная занятость</td>\n",
              "      <td>60000.0</td>\n",
              "      <td>NaN</td>\n",
              "      <td>1930</td>\n",
              "      <td>4094700</td>\n",
              "    </tr>\n",
              "    <tr>\n",
              "      <th>49195</th>\n",
              "      <td>66180086</td>\n",
              "      <td>Senior IOS разработчик</td>\n",
              "      <td>Swift\\tRealm\\tiOS\\tАнглийский язык\\tMVP\\tMVVM\\...</td>\n",
              "      <td>Полный день</td>\n",
              "      <td>От 1 года до 3 лет</td>\n",
              "      <td>Полная занятость</td>\n",
              "      <td>146456.0</td>\n",
              "      <td>244094.0</td>\n",
              "      <td>160</td>\n",
              "      <td>4469939</td>\n",
              "    </tr>\n",
              "    <tr>\n",
              "      <th>49196</th>\n",
              "      <td>55547842</td>\n",
              "      <td>DataOps Engineer</td>\n",
              "      <td>None</td>\n",
              "      <td>Удаленная работа</td>\n",
              "      <td>От 3 до 6 лет</td>\n",
              "      <td>Полная занятость</td>\n",
              "      <td>NaN</td>\n",
              "      <td>NaN</td>\n",
              "      <td>160</td>\n",
              "      <td>4978627</td>\n",
              "    </tr>\n",
              "  </tbody>\n",
              "</table>\n",
              "<p>49197 rows × 10 columns</p>\n",
              "</div>"
            ],
            "text/plain": [
              "             id                                               name  \\\n",
              "0      55312386                                Компьютерный Мастер   \n",
              "1      55843014                            Системный администратор   \n",
              "2      54525964                      Lead Java Developer to Poland   \n",
              "3      54525965                      Lead Java Developer to Poland   \n",
              "4      55354053  Специалист службы поддержки с техническими зна...   \n",
              "...         ...                                                ...   \n",
              "49192  55589514           Специалист по информационным технологиям   \n",
              "49193  55029668                     Руководитель процессного офиса   \n",
              "49194  66172263                         Начальник сервисной службы   \n",
              "49195  66180086                             Senior IOS разработчик   \n",
              "49196  55547842                                   DataOps Engineer   \n",
              "\n",
              "                                              key_skills          schedule  \\\n",
              "0      Пользователь ПК\\tРабота в команде\\tРемонт ноут...       Полный день   \n",
              "1      Средства криптографической защиты информации\\t...       Полный день   \n",
              "2        Spring Framework\\tSQL\\tHibernate ORM\\tJava\\tGit  Удаленная работа   \n",
              "3        Spring Framework\\tSQL\\tHibernate ORM\\tJava\\tGit  Удаленная работа   \n",
              "4                                                   None  Удаленная работа   \n",
              "...                                                  ...               ...   \n",
              "49192  Электронный документооборот\\t1С: Предприятие 8...       Полный день   \n",
              "49193  Оптимизация бизнес-процессов\\tСтратегическое м...       Полный день   \n",
              "49194  Организаторские навыки\\tУправление персоналом\\...       Полный день   \n",
              "49195  Swift\\tRealm\\tiOS\\tАнглийский язык\\tMVP\\tMVVM\\...       Полный день   \n",
              "49196                                               None  Удаленная работа   \n",
              "\n",
              "               experience           employment  salary_from  salary_to  \\\n",
              "0               Нет опыта     Полная занятость      64000.0        NaN   \n",
              "1           От 3 до 6 лет     Полная занятость          NaN        NaN   \n",
              "2           От 3 до 6 лет     Полная занятость          NaN        NaN   \n",
              "3           От 3 до 6 лет     Полная занятость          NaN        NaN   \n",
              "4               Нет опыта  Частичная занятость      15000.0        NaN   \n",
              "...                   ...                  ...          ...        ...   \n",
              "49192       От 3 до 6 лет     Полная занятость          NaN        NaN   \n",
              "49193       От 3 до 6 лет     Полная занятость          NaN        NaN   \n",
              "49194  От 1 года до 3 лет     Полная занятость      60000.0        NaN   \n",
              "49195  От 1 года до 3 лет     Полная занятость     146456.0   244094.0   \n",
              "49196       От 3 до 6 лет     Полная занятость          NaN        NaN   \n",
              "\n",
              "       area_id  employer_id  \n",
              "0         1516      5724811  \n",
              "1          130      4903713  \n",
              "2          160        69961  \n",
              "3          159        69961  \n",
              "4         1955         1740  \n",
              "...        ...          ...  \n",
              "49192       66      5109332  \n",
              "49193       26        51333  \n",
              "49194     1930      4094700  \n",
              "49195      160      4469939  \n",
              "49196      160      4978627  \n",
              "\n",
              "[49197 rows x 10 columns]"
            ]
          },
          "execution_count": 8,
          "metadata": {},
          "output_type": "execute_result"
        }
      ],
      "source": [
        "query = f'''SELECT *\n",
        "            FROM vacancies\n",
        "         '''\n",
        "         \n",
        "df = pd.read_sql_query(query, connection)\n",
        "df"
      ]
    },
    {
      "cell_type": "markdown",
      "id": "a1f6ab37",
      "metadata": {},
      "source": [
        "#### 2. таблица areas"
      ]
    },
    {
      "cell_type": "code",
      "execution_count": 9,
      "id": "e2f645dc",
      "metadata": {},
      "outputs": [
        {
          "name": "stderr",
          "output_type": "stream",
          "text": [
            "C:\\Users\\foret\\AppData\\Local\\Temp\\ipykernel_8532\\4167215095.py:5: UserWarning: pandas only supports SQLAlchemy connectable (engine/connection) or database string URI or sqlite3 DBAPI2 connection. Other DBAPI2 objects are not tested. Please consider using SQLAlchemy.\n",
            "  df = pd.read_sql_query(query, connection)\n"
          ]
        },
        {
          "data": {
            "text/html": [
              "<div>\n",
              "<style scoped>\n",
              "    .dataframe tbody tr th:only-of-type {\n",
              "        vertical-align: middle;\n",
              "    }\n",
              "\n",
              "    .dataframe tbody tr th {\n",
              "        vertical-align: top;\n",
              "    }\n",
              "\n",
              "    .dataframe thead th {\n",
              "        text-align: right;\n",
              "    }\n",
              "</style>\n",
              "<table border=\"1\" class=\"dataframe\">\n",
              "  <thead>\n",
              "    <tr style=\"text-align: right;\">\n",
              "      <th></th>\n",
              "      <th>id</th>\n",
              "      <th>name</th>\n",
              "    </tr>\n",
              "  </thead>\n",
              "  <tbody>\n",
              "    <tr>\n",
              "      <th>0</th>\n",
              "      <td>2758</td>\n",
              "      <td>Тбилиси</td>\n",
              "    </tr>\n",
              "    <tr>\n",
              "      <th>1</th>\n",
              "      <td>8</td>\n",
              "      <td>Майкоп</td>\n",
              "    </tr>\n",
              "    <tr>\n",
              "      <th>2</th>\n",
              "      <td>1180</td>\n",
              "      <td>Нерюнгри</td>\n",
              "    </tr>\n",
              "    <tr>\n",
              "      <th>3</th>\n",
              "      <td>1240</td>\n",
              "      <td>Новокузнецк</td>\n",
              "    </tr>\n",
              "    <tr>\n",
              "      <th>4</th>\n",
              "      <td>2</td>\n",
              "      <td>Санкт-Петербург</td>\n",
              "    </tr>\n",
              "    <tr>\n",
              "      <th>...</th>\n",
              "      <td>...</td>\n",
              "      <td>...</td>\n",
              "    </tr>\n",
              "    <tr>\n",
              "      <th>1357</th>\n",
              "      <td>5043</td>\n",
              "      <td>Звёздный Городок</td>\n",
              "    </tr>\n",
              "    <tr>\n",
              "      <th>1358</th>\n",
              "      <td>3934</td>\n",
              "      <td>Воротынск\\n</td>\n",
              "    </tr>\n",
              "    <tr>\n",
              "      <th>1359</th>\n",
              "      <td>4825</td>\n",
              "      <td>Чемал</td>\n",
              "    </tr>\n",
              "    <tr>\n",
              "      <th>1360</th>\n",
              "      <td>3708</td>\n",
              "      <td>Усть-Нера</td>\n",
              "    </tr>\n",
              "    <tr>\n",
              "      <th>1361</th>\n",
              "      <td>2432</td>\n",
              "      <td>Каневская</td>\n",
              "    </tr>\n",
              "  </tbody>\n",
              "</table>\n",
              "<p>1362 rows × 2 columns</p>\n",
              "</div>"
            ],
            "text/plain": [
              "        id              name\n",
              "0     2758           Тбилиси\n",
              "1        8            Майкоп\n",
              "2     1180          Нерюнгри\n",
              "3     1240       Новокузнецк\n",
              "4        2   Санкт-Петербург\n",
              "...    ...               ...\n",
              "1357  5043  Звёздный Городок\n",
              "1358  3934       Воротынск\\n\n",
              "1359  4825             Чемал\n",
              "1360  3708         Усть-Нера\n",
              "1361  2432         Каневская\n",
              "\n",
              "[1362 rows x 2 columns]"
            ]
          },
          "execution_count": 9,
          "metadata": {},
          "output_type": "execute_result"
        }
      ],
      "source": [
        "query = f'''SELECT *\n",
        "            FROM areas\n",
        "         '''\n",
        "         \n",
        "df = pd.read_sql_query(query, connection)\n",
        "df"
      ]
    },
    {
      "cell_type": "markdown",
      "id": "a732af14",
      "metadata": {},
      "source": [
        "#### 3. таблица employers"
      ]
    },
    {
      "cell_type": "code",
      "execution_count": 10,
      "id": "aa35c83e",
      "metadata": {},
      "outputs": [
        {
          "name": "stderr",
          "output_type": "stream",
          "text": [
            "C:\\Users\\foret\\AppData\\Local\\Temp\\ipykernel_8532\\2429053924.py:5: UserWarning: pandas only supports SQLAlchemy connectable (engine/connection) or database string URI or sqlite3 DBAPI2 connection. Other DBAPI2 objects are not tested. Please consider using SQLAlchemy.\n",
            "  df = pd.read_sql_query(query, connection)\n"
          ]
        },
        {
          "data": {
            "text/html": [
              "<div>\n",
              "<style scoped>\n",
              "    .dataframe tbody tr th:only-of-type {\n",
              "        vertical-align: middle;\n",
              "    }\n",
              "\n",
              "    .dataframe tbody tr th {\n",
              "        vertical-align: top;\n",
              "    }\n",
              "\n",
              "    .dataframe thead th {\n",
              "        text-align: right;\n",
              "    }\n",
              "</style>\n",
              "<table border=\"1\" class=\"dataframe\">\n",
              "  <thead>\n",
              "    <tr style=\"text-align: right;\">\n",
              "      <th></th>\n",
              "      <th>id</th>\n",
              "      <th>name</th>\n",
              "      <th>area</th>\n",
              "    </tr>\n",
              "  </thead>\n",
              "  <tbody>\n",
              "    <tr>\n",
              "      <th>0</th>\n",
              "      <td>2393</td>\n",
              "      <td>Программный Продукт, ИТ-компания</td>\n",
              "      <td>1</td>\n",
              "    </tr>\n",
              "    <tr>\n",
              "      <th>1</th>\n",
              "      <td>72977</td>\n",
              "      <td>БАРС Груп</td>\n",
              "      <td>88</td>\n",
              "    </tr>\n",
              "    <tr>\n",
              "      <th>2</th>\n",
              "      <td>3155</td>\n",
              "      <td>Бест, Торгово-производственная компания, Екате...</td>\n",
              "      <td>3</td>\n",
              "    </tr>\n",
              "    <tr>\n",
              "      <th>3</th>\n",
              "      <td>675</td>\n",
              "      <td>КОРУС Консалтинг</td>\n",
              "      <td>2</td>\n",
              "    </tr>\n",
              "    <tr>\n",
              "      <th>4</th>\n",
              "      <td>1840010</td>\n",
              "      <td>филиал ФКУ Налог-Сервис ФНС России в Республик...</td>\n",
              "      <td>88</td>\n",
              "    </tr>\n",
              "    <tr>\n",
              "      <th>...</th>\n",
              "      <td>...</td>\n",
              "      <td>...</td>\n",
              "      <td>...</td>\n",
              "    </tr>\n",
              "    <tr>\n",
              "      <th>23496</th>\n",
              "      <td>1441774</td>\n",
              "      <td>МарКо</td>\n",
              "      <td>88</td>\n",
              "    </tr>\n",
              "    <tr>\n",
              "      <th>23497</th>\n",
              "      <td>4718575</td>\n",
              "      <td>MKomov Studio</td>\n",
              "      <td>73</td>\n",
              "    </tr>\n",
              "    <tr>\n",
              "      <th>23498</th>\n",
              "      <td>3702770</td>\n",
              "      <td>АКИБ Ипотека-банк</td>\n",
              "      <td>2759</td>\n",
              "    </tr>\n",
              "    <tr>\n",
              "      <th>23499</th>\n",
              "      <td>5636092</td>\n",
              "      <td>ГИМ-КЛИНИКА</td>\n",
              "      <td>99</td>\n",
              "    </tr>\n",
              "    <tr>\n",
              "      <th>23500</th>\n",
              "      <td>2064382</td>\n",
              "      <td>Рыббла</td>\n",
              "      <td>104</td>\n",
              "    </tr>\n",
              "  </tbody>\n",
              "</table>\n",
              "<p>23501 rows × 3 columns</p>\n",
              "</div>"
            ],
            "text/plain": [
              "            id                                               name  area\n",
              "0         2393                   Программный Продукт, ИТ-компания     1\n",
              "1        72977                                          БАРС Груп    88\n",
              "2         3155  Бест, Торгово-производственная компания, Екате...     3\n",
              "3          675                                   КОРУС Консалтинг     2\n",
              "4      1840010  филиал ФКУ Налог-Сервис ФНС России в Республик...    88\n",
              "...        ...                                                ...   ...\n",
              "23496  1441774                                              МарКо    88\n",
              "23497  4718575                                      MKomov Studio    73\n",
              "23498  3702770                                  АКИБ Ипотека-банк  2759\n",
              "23499  5636092                                        ГИМ-КЛИНИКА    99\n",
              "23500  2064382                                             Рыббла   104\n",
              "\n",
              "[23501 rows x 3 columns]"
            ]
          },
          "execution_count": 10,
          "metadata": {},
          "output_type": "execute_result"
        }
      ],
      "source": [
        "query = f'''SELECT *\n",
        "            FROM employers\n",
        "         '''\n",
        "         \n",
        "df = pd.read_sql_query(query, connection)\n",
        "df"
      ]
    },
    {
      "cell_type": "markdown",
      "id": "dd3d73ec",
      "metadata": {},
      "source": [
        "#### 4. таблица employers_industries"
      ]
    },
    {
      "cell_type": "code",
      "execution_count": 11,
      "id": "a7a6a57b",
      "metadata": {},
      "outputs": [
        {
          "name": "stderr",
          "output_type": "stream",
          "text": [
            "C:\\Users\\foret\\AppData\\Local\\Temp\\ipykernel_8532\\1641111216.py:5: UserWarning: pandas only supports SQLAlchemy connectable (engine/connection) or database string URI or sqlite3 DBAPI2 connection. Other DBAPI2 objects are not tested. Please consider using SQLAlchemy.\n",
            "  df = pd.read_sql_query(query, connection)\n"
          ]
        },
        {
          "data": {
            "text/html": [
              "<div>\n",
              "<style scoped>\n",
              "    .dataframe tbody tr th:only-of-type {\n",
              "        vertical-align: middle;\n",
              "    }\n",
              "\n",
              "    .dataframe tbody tr th {\n",
              "        vertical-align: top;\n",
              "    }\n",
              "\n",
              "    .dataframe thead th {\n",
              "        text-align: right;\n",
              "    }\n",
              "</style>\n",
              "<table border=\"1\" class=\"dataframe\">\n",
              "  <thead>\n",
              "    <tr style=\"text-align: right;\">\n",
              "      <th></th>\n",
              "      <th>employer_id</th>\n",
              "      <th>industry_id</th>\n",
              "    </tr>\n",
              "  </thead>\n",
              "  <tbody>\n",
              "    <tr>\n",
              "      <th>0</th>\n",
              "      <td>2393</td>\n",
              "      <td>7.540</td>\n",
              "    </tr>\n",
              "    <tr>\n",
              "      <th>1</th>\n",
              "      <td>2393</td>\n",
              "      <td>7.539</td>\n",
              "    </tr>\n",
              "    <tr>\n",
              "      <th>2</th>\n",
              "      <td>72977</td>\n",
              "      <td>7.540</td>\n",
              "    </tr>\n",
              "    <tr>\n",
              "      <th>3</th>\n",
              "      <td>72977</td>\n",
              "      <td>7.539</td>\n",
              "    </tr>\n",
              "    <tr>\n",
              "      <th>4</th>\n",
              "      <td>3155</td>\n",
              "      <td>27.550</td>\n",
              "    </tr>\n",
              "    <tr>\n",
              "      <th>...</th>\n",
              "      <td>...</td>\n",
              "      <td>...</td>\n",
              "    </tr>\n",
              "    <tr>\n",
              "      <th>32328</th>\n",
              "      <td>4718575</td>\n",
              "      <td>7.539</td>\n",
              "    </tr>\n",
              "    <tr>\n",
              "      <th>32329</th>\n",
              "      <td>3702770</td>\n",
              "      <td>43.647</td>\n",
              "    </tr>\n",
              "    <tr>\n",
              "      <th>32330</th>\n",
              "      <td>2064382</td>\n",
              "      <td>7.541</td>\n",
              "    </tr>\n",
              "    <tr>\n",
              "      <th>32331</th>\n",
              "      <td>2064382</td>\n",
              "      <td>7.540</td>\n",
              "    </tr>\n",
              "    <tr>\n",
              "      <th>32332</th>\n",
              "      <td>2064382</td>\n",
              "      <td>7.539</td>\n",
              "    </tr>\n",
              "  </tbody>\n",
              "</table>\n",
              "<p>32333 rows × 2 columns</p>\n",
              "</div>"
            ],
            "text/plain": [
              "       employer_id industry_id\n",
              "0             2393       7.540\n",
              "1             2393       7.539\n",
              "2            72977       7.540\n",
              "3            72977       7.539\n",
              "4             3155      27.550\n",
              "...            ...         ...\n",
              "32328      4718575       7.539\n",
              "32329      3702770      43.647\n",
              "32330      2064382       7.541\n",
              "32331      2064382       7.540\n",
              "32332      2064382       7.539\n",
              "\n",
              "[32333 rows x 2 columns]"
            ]
          },
          "execution_count": 11,
          "metadata": {},
          "output_type": "execute_result"
        }
      ],
      "source": [
        "query = f'''SELECT *\n",
        "            FROM employers_industries\n",
        "         '''\n",
        "         \n",
        "df = pd.read_sql_query(query, connection)\n",
        "df"
      ]
    },
    {
      "cell_type": "markdown",
      "id": "6062444c",
      "metadata": {},
      "source": [
        "#### 5. таблица industries"
      ]
    },
    {
      "cell_type": "code",
      "execution_count": 12,
      "id": "59eb4e7c",
      "metadata": {},
      "outputs": [
        {
          "name": "stderr",
          "output_type": "stream",
          "text": [
            "C:\\Users\\foret\\AppData\\Local\\Temp\\ipykernel_8532\\2531217443.py:5: UserWarning: pandas only supports SQLAlchemy connectable (engine/connection) or database string URI or sqlite3 DBAPI2 connection. Other DBAPI2 objects are not tested. Please consider using SQLAlchemy.\n",
            "  df = pd.read_sql_query(query, connection)\n"
          ]
        },
        {
          "data": {
            "text/html": [
              "<div>\n",
              "<style scoped>\n",
              "    .dataframe tbody tr th:only-of-type {\n",
              "        vertical-align: middle;\n",
              "    }\n",
              "\n",
              "    .dataframe tbody tr th {\n",
              "        vertical-align: top;\n",
              "    }\n",
              "\n",
              "    .dataframe thead th {\n",
              "        text-align: right;\n",
              "    }\n",
              "</style>\n",
              "<table border=\"1\" class=\"dataframe\">\n",
              "  <thead>\n",
              "    <tr style=\"text-align: right;\">\n",
              "      <th></th>\n",
              "      <th>id</th>\n",
              "      <th>name</th>\n",
              "    </tr>\n",
              "  </thead>\n",
              "  <tbody>\n",
              "    <tr>\n",
              "      <th>0</th>\n",
              "      <td>7.540</td>\n",
              "      <td>Разработка программного обеспечения</td>\n",
              "    </tr>\n",
              "    <tr>\n",
              "      <th>1</th>\n",
              "      <td>7.539</td>\n",
              "      <td>Системная интеграция,  автоматизации технологи...</td>\n",
              "    </tr>\n",
              "    <tr>\n",
              "      <th>2</th>\n",
              "      <td>27.550</td>\n",
              "      <td>Безалкогольные напитки (производство)</td>\n",
              "    </tr>\n",
              "    <tr>\n",
              "      <th>3</th>\n",
              "      <td>27.551</td>\n",
              "      <td>Безалкогольные напитки (продвижение, оптовая т...</td>\n",
              "    </tr>\n",
              "    <tr>\n",
              "      <th>4</th>\n",
              "      <td>13.664</td>\n",
              "      <td>Управление и эксплуатация недвижимости</td>\n",
              "    </tr>\n",
              "    <tr>\n",
              "      <th>...</th>\n",
              "      <td>...</td>\n",
              "      <td>...</td>\n",
              "    </tr>\n",
              "    <tr>\n",
              "      <th>289</th>\n",
              "      <td>37.626</td>\n",
              "      <td>Ассоциация в сфере культуры, искусства</td>\n",
              "    </tr>\n",
              "    <tr>\n",
              "      <th>290</th>\n",
              "      <td>42.603</td>\n",
              "      <td>Табак  (производство)</td>\n",
              "    </tr>\n",
              "    <tr>\n",
              "      <th>291</th>\n",
              "      <td>29.532</td>\n",
              "      <td>Рыболовство, рыбоводство</td>\n",
              "    </tr>\n",
              "    <tr>\n",
              "      <th>292</th>\n",
              "      <td>37.627</td>\n",
              "      <td>Благотворительная организация</td>\n",
              "    </tr>\n",
              "    <tr>\n",
              "      <th>293</th>\n",
              "      <td>388.505</td>\n",
              "      <td>Оборудование для деревообработки, заготовки ле...</td>\n",
              "    </tr>\n",
              "  </tbody>\n",
              "</table>\n",
              "<p>294 rows × 2 columns</p>\n",
              "</div>"
            ],
            "text/plain": [
              "          id                                               name\n",
              "0      7.540                Разработка программного обеспечения\n",
              "1      7.539  Системная интеграция,  автоматизации технологи...\n",
              "2     27.550              Безалкогольные напитки (производство)\n",
              "3     27.551  Безалкогольные напитки (продвижение, оптовая т...\n",
              "4     13.664             Управление и эксплуатация недвижимости\n",
              "..       ...                                                ...\n",
              "289   37.626             Ассоциация в сфере культуры, искусства\n",
              "290   42.603                              Табак  (производство)\n",
              "291   29.532                           Рыболовство, рыбоводство\n",
              "292   37.627                      Благотворительная организация\n",
              "293  388.505  Оборудование для деревообработки, заготовки ле...\n",
              "\n",
              "[294 rows x 2 columns]"
            ]
          },
          "execution_count": 12,
          "metadata": {},
          "output_type": "execute_result"
        }
      ],
      "source": [
        "query = f'''SELECT *\n",
        "            FROM industries\n",
        "         '''\n",
        "         \n",
        "df = pd.read_sql_query(query, connection)\n",
        "df"
      ]
    },
    {
      "cell_type": "markdown",
      "id": "08ec82a2",
      "metadata": {},
      "source": [
        "====================================================================================================================================================================="
      ]
    },
    {
      "cell_type": "markdown",
      "id": "3e1b9e01",
      "metadata": {},
      "source": [
        "### 3. Предварительный анализ данных"
      ]
    },
    {
      "cell_type": "markdown",
      "id": "7c044c00",
      "metadata": {},
      "source": [
        "3.1 Сколько вакансий есть в базе?"
      ]
    },
    {
      "cell_type": "code",
      "execution_count": 13,
      "id": "eb86a9d7",
      "metadata": {},
      "outputs": [],
      "source": [
        "query = f'''SELECT COUNT(*) AS total_vacancies\n",
        "            FROM vacancies\n",
        "         '''"
      ]
    },
    {
      "cell_type": "code",
      "execution_count": 14,
      "id": "e4372c3c",
      "metadata": {},
      "outputs": [
        {
          "name": "stderr",
          "output_type": "stream",
          "text": [
            "C:\\Users\\foret\\AppData\\Local\\Temp\\ipykernel_8532\\137330334.py:1: UserWarning: pandas only supports SQLAlchemy connectable (engine/connection) or database string URI or sqlite3 DBAPI2 connection. Other DBAPI2 objects are not tested. Please consider using SQLAlchemy.\n",
            "  df = pd.read_sql_query(query, connection)\n"
          ]
        },
        {
          "data": {
            "text/html": [
              "<div>\n",
              "<style scoped>\n",
              "    .dataframe tbody tr th:only-of-type {\n",
              "        vertical-align: middle;\n",
              "    }\n",
              "\n",
              "    .dataframe tbody tr th {\n",
              "        vertical-align: top;\n",
              "    }\n",
              "\n",
              "    .dataframe thead th {\n",
              "        text-align: right;\n",
              "    }\n",
              "</style>\n",
              "<table border=\"1\" class=\"dataframe\">\n",
              "  <thead>\n",
              "    <tr style=\"text-align: right;\">\n",
              "      <th></th>\n",
              "      <th>total_vacancies</th>\n",
              "    </tr>\n",
              "  </thead>\n",
              "  <tbody>\n",
              "    <tr>\n",
              "      <th>0</th>\n",
              "      <td>49197</td>\n",
              "    </tr>\n",
              "  </tbody>\n",
              "</table>\n",
              "</div>"
            ],
            "text/plain": [
              "   total_vacancies\n",
              "0            49197"
            ]
          },
          "execution_count": 14,
          "metadata": {},
          "output_type": "execute_result"
        }
      ],
      "source": [
        "df = pd.read_sql_query(query, connection)\n",
        "df"
      ]
    },
    {
      "cell_type": "markdown",
      "id": "b06c3854",
      "metadata": {},
      "source": [
        "3.2 Сколько работодателей?"
      ]
    },
    {
      "cell_type": "code",
      "execution_count": 15,
      "id": "e2fbc1e6",
      "metadata": {},
      "outputs": [
        {
          "name": "stderr",
          "output_type": "stream",
          "text": [
            "C:\\Users\\foret\\AppData\\Local\\Temp\\ipykernel_8532\\3005319966.py:5: UserWarning: pandas only supports SQLAlchemy connectable (engine/connection) or database string URI or sqlite3 DBAPI2 connection. Other DBAPI2 objects are not tested. Please consider using SQLAlchemy.\n",
            "  df = pd.read_sql_query(query, connection)\n"
          ]
        },
        {
          "data": {
            "text/html": [
              "<div>\n",
              "<style scoped>\n",
              "    .dataframe tbody tr th:only-of-type {\n",
              "        vertical-align: middle;\n",
              "    }\n",
              "\n",
              "    .dataframe tbody tr th {\n",
              "        vertical-align: top;\n",
              "    }\n",
              "\n",
              "    .dataframe thead th {\n",
              "        text-align: right;\n",
              "    }\n",
              "</style>\n",
              "<table border=\"1\" class=\"dataframe\">\n",
              "  <thead>\n",
              "    <tr style=\"text-align: right;\">\n",
              "      <th></th>\n",
              "      <th>total_employers</th>\n",
              "    </tr>\n",
              "  </thead>\n",
              "  <tbody>\n",
              "    <tr>\n",
              "      <th>0</th>\n",
              "      <td>23501</td>\n",
              "    </tr>\n",
              "  </tbody>\n",
              "</table>\n",
              "</div>"
            ],
            "text/plain": [
              "   total_employers\n",
              "0            23501"
            ]
          },
          "execution_count": 15,
          "metadata": {},
          "output_type": "execute_result"
        }
      ],
      "source": [
        "query = f'''SELECT COUNT(*) AS total_employers\n",
        "            FROM employers\n",
        "         '''\n",
        "         \n",
        "df = pd.read_sql_query(query, connection)\n",
        "df"
      ]
    },
    {
      "cell_type": "markdown",
      "id": "457044a0",
      "metadata": {},
      "source": [
        "3.3 Сколько регионов?"
      ]
    },
    {
      "cell_type": "code",
      "execution_count": 16,
      "id": "0457d8b5",
      "metadata": {},
      "outputs": [
        {
          "name": "stderr",
          "output_type": "stream",
          "text": [
            "C:\\Users\\foret\\AppData\\Local\\Temp\\ipykernel_8532\\4283431876.py:5: UserWarning: pandas only supports SQLAlchemy connectable (engine/connection) or database string URI or sqlite3 DBAPI2 connection. Other DBAPI2 objects are not tested. Please consider using SQLAlchemy.\n",
            "  df = pd.read_sql_query(query, connection)\n"
          ]
        },
        {
          "data": {
            "text/html": [
              "<div>\n",
              "<style scoped>\n",
              "    .dataframe tbody tr th:only-of-type {\n",
              "        vertical-align: middle;\n",
              "    }\n",
              "\n",
              "    .dataframe tbody tr th {\n",
              "        vertical-align: top;\n",
              "    }\n",
              "\n",
              "    .dataframe thead th {\n",
              "        text-align: right;\n",
              "    }\n",
              "</style>\n",
              "<table border=\"1\" class=\"dataframe\">\n",
              "  <thead>\n",
              "    <tr style=\"text-align: right;\">\n",
              "      <th></th>\n",
              "      <th>total_areas</th>\n",
              "    </tr>\n",
              "  </thead>\n",
              "  <tbody>\n",
              "    <tr>\n",
              "      <th>0</th>\n",
              "      <td>1362</td>\n",
              "    </tr>\n",
              "  </tbody>\n",
              "</table>\n",
              "</div>"
            ],
            "text/plain": [
              "   total_areas\n",
              "0         1362"
            ]
          },
          "execution_count": 16,
          "metadata": {},
          "output_type": "execute_result"
        }
      ],
      "source": [
        "query = f'''SELECT COUNT(*) AS total_areas\n",
        "            FROM areas\n",
        "         '''\n",
        "         \n",
        "df = pd.read_sql_query(query, connection)\n",
        "df"
      ]
    },
    {
      "cell_type": "markdown",
      "id": "c4cf4697",
      "metadata": {},
      "source": [
        "3.4 Сколько сфер деятельности?"
      ]
    },
    {
      "cell_type": "code",
      "execution_count": 17,
      "id": "b7cc0c4d",
      "metadata": {},
      "outputs": [
        {
          "name": "stderr",
          "output_type": "stream",
          "text": [
            "C:\\Users\\foret\\AppData\\Local\\Temp\\ipykernel_8532\\3144796312.py:5: UserWarning: pandas only supports SQLAlchemy connectable (engine/connection) or database string URI or sqlite3 DBAPI2 connection. Other DBAPI2 objects are not tested. Please consider using SQLAlchemy.\n",
            "  df = pd.read_sql_query(query, connection)\n"
          ]
        },
        {
          "data": {
            "text/html": [
              "<div>\n",
              "<style scoped>\n",
              "    .dataframe tbody tr th:only-of-type {\n",
              "        vertical-align: middle;\n",
              "    }\n",
              "\n",
              "    .dataframe tbody tr th {\n",
              "        vertical-align: top;\n",
              "    }\n",
              "\n",
              "    .dataframe thead th {\n",
              "        text-align: right;\n",
              "    }\n",
              "</style>\n",
              "<table border=\"1\" class=\"dataframe\">\n",
              "  <thead>\n",
              "    <tr style=\"text-align: right;\">\n",
              "      <th></th>\n",
              "      <th>total_industries</th>\n",
              "    </tr>\n",
              "  </thead>\n",
              "  <tbody>\n",
              "    <tr>\n",
              "      <th>0</th>\n",
              "      <td>294</td>\n",
              "    </tr>\n",
              "  </tbody>\n",
              "</table>\n",
              "</div>"
            ],
            "text/plain": [
              "   total_industries\n",
              "0               294"
            ]
          },
          "execution_count": 17,
          "metadata": {},
          "output_type": "execute_result"
        }
      ],
      "source": [
        "query = f'''SELECT COUNT(*) AS total_industries\n",
        "            FROM industries\n",
        "         '''\n",
        "         \n",
        "df = pd.read_sql_query(query, connection)\n",
        "df"
      ]
    },
    {
      "cell_type": "markdown",
      "id": "277fe311",
      "metadata": {},
      "source": [
        "### ВЫВОДЫ:"
      ]
    },
    {
      "cell_type": "markdown",
      "id": "0f696640",
      "metadata": {},
      "source": [
        "``Большое количество вакансий (49 197)``: Рынок труда активен, и есть много возможностей для соискателей.  \n",
        "``Много работодателей (23 501)``: Рынок труда разнообразен, с большим количеством компаний, предлагающих вакансии.  \n",
        "``Много регионов (1 362)``: Вакансии распределены по большому количеству регионов.  \n",
        "``Много сфер деятельности (294)``: Рынок труда охватывает широкий спектр отраслей и специализаций.  "
      ]
    },
    {
      "cell_type": "markdown",
      "id": "53a95b96",
      "metadata": {},
      "source": [
        "================================================================================================================================================================="
      ]
    },
    {
      "cell_type": "markdown",
      "id": "4f410d67",
      "metadata": {},
      "source": [
        "### 4. Детальный анализ вакансий"
      ]
    },
    {
      "cell_type": "markdown",
      "id": "203817ee",
      "metadata": {},
      "source": [
        "4.1 Напишите запрос, который позволит узнать, сколько (cnt) вакансий в каждом регионе (area).\n",
        "Выберите пятёрку лидеров по количеству вакансий:"
      ]
    },
    {
      "cell_type": "code",
      "execution_count": 18,
      "id": "f0833eb5",
      "metadata": {},
      "outputs": [
        {
          "name": "stderr",
          "output_type": "stream",
          "text": [
            "C:\\Users\\foret\\AppData\\Local\\Temp\\ipykernel_8532\\2356193394.py:14: UserWarning: pandas only supports SQLAlchemy connectable (engine/connection) or database string URI or sqlite3 DBAPI2 connection. Other DBAPI2 objects are not tested. Please consider using SQLAlchemy.\n",
            "  df = pd.read_sql_query(query, connection)\n"
          ]
        },
        {
          "data": {
            "text/html": [
              "<div>\n",
              "<style scoped>\n",
              "    .dataframe tbody tr th:only-of-type {\n",
              "        vertical-align: middle;\n",
              "    }\n",
              "\n",
              "    .dataframe tbody tr th {\n",
              "        vertical-align: top;\n",
              "    }\n",
              "\n",
              "    .dataframe thead th {\n",
              "        text-align: right;\n",
              "    }\n",
              "</style>\n",
              "<table border=\"1\" class=\"dataframe\">\n",
              "  <thead>\n",
              "    <tr style=\"text-align: right;\">\n",
              "      <th></th>\n",
              "      <th>region</th>\n",
              "      <th>cnt</th>\n",
              "    </tr>\n",
              "  </thead>\n",
              "  <tbody>\n",
              "    <tr>\n",
              "      <th>0</th>\n",
              "      <td>Москва</td>\n",
              "      <td>5333</td>\n",
              "    </tr>\n",
              "    <tr>\n",
              "      <th>1</th>\n",
              "      <td>Санкт-Петербург</td>\n",
              "      <td>2851</td>\n",
              "    </tr>\n",
              "    <tr>\n",
              "      <th>2</th>\n",
              "      <td>Минск</td>\n",
              "      <td>2112</td>\n",
              "    </tr>\n",
              "    <tr>\n",
              "      <th>3</th>\n",
              "      <td>Новосибирск</td>\n",
              "      <td>2006</td>\n",
              "    </tr>\n",
              "    <tr>\n",
              "      <th>4</th>\n",
              "      <td>Алматы</td>\n",
              "      <td>1892</td>\n",
              "    </tr>\n",
              "    <tr>\n",
              "      <th>...</th>\n",
              "      <td>...</td>\n",
              "      <td>...</td>\n",
              "    </tr>\n",
              "    <tr>\n",
              "      <th>764</th>\n",
              "      <td>Тарко-Сале</td>\n",
              "      <td>1</td>\n",
              "    </tr>\n",
              "    <tr>\n",
              "      <th>765</th>\n",
              "      <td>Новоаннинский</td>\n",
              "      <td>1</td>\n",
              "    </tr>\n",
              "    <tr>\n",
              "      <th>766</th>\n",
              "      <td>Бирск</td>\n",
              "      <td>1</td>\n",
              "    </tr>\n",
              "    <tr>\n",
              "      <th>767</th>\n",
              "      <td>Сасово</td>\n",
              "      <td>1</td>\n",
              "    </tr>\n",
              "    <tr>\n",
              "      <th>768</th>\n",
              "      <td>Анна</td>\n",
              "      <td>1</td>\n",
              "    </tr>\n",
              "  </tbody>\n",
              "</table>\n",
              "<p>769 rows × 2 columns</p>\n",
              "</div>"
            ],
            "text/plain": [
              "              region   cnt\n",
              "0             Москва  5333\n",
              "1    Санкт-Петербург  2851\n",
              "2              Минск  2112\n",
              "3        Новосибирск  2006\n",
              "4             Алматы  1892\n",
              "..               ...   ...\n",
              "764       Тарко-Сале     1\n",
              "765    Новоаннинский     1\n",
              "766            Бирск     1\n",
              "767           Сасово     1\n",
              "768             Анна     1\n",
              "\n",
              "[769 rows x 2 columns]"
            ]
          },
          "execution_count": 18,
          "metadata": {},
          "output_type": "execute_result"
        }
      ],
      "source": [
        "query = f'''SELECT\n",
        "                a.name AS region,\n",
        "                COUNT(v.id) AS cnt\n",
        "            FROM\n",
        "                vacancies v\n",
        "            JOIN\n",
        "                areas a ON v.area_id = a.id\n",
        "            GROUP BY\n",
        "                a.name\n",
        "            ORDER BY\n",
        "                cnt DESC;\n",
        "         '''\n",
        "         \n",
        "df = pd.read_sql_query(query, connection)\n",
        "df"
      ]
    },
    {
      "cell_type": "code",
      "execution_count": 19,
      "id": "b5d7d7e3",
      "metadata": {},
      "outputs": [
        {
          "data": {
            "image/png": "[encoded data removed]",
            "text/plain": [
              "<Figure size 1200x800 with 1 Axes>"
            ]
          },
          "metadata": {},
          "output_type": "display_data"
        }
      ],
      "source": [
        "import matplotlib.pyplot as plt\n",
        "import pandas as pd\n",
        "\n",
        "# Фильтруем топ-20 регионов для наглядности\n",
        "top_regions = df.head(20)\n",
        "\n",
        "# Создаем фигуру\n",
        "plt.figure(figsize=(12, 8))\n",
        "\n",
        "# Горизонтальный бар-чарт\n",
        "plt.barh(top_regions['region'], top_regions['cnt'], color='skyblue')\n",
        "\n",
        "# Настройки оформления\n",
        "plt.title('Топ-20 регионов по количеству вакансий', fontsize=14, pad=20)\n",
        "plt.xlabel('Количество вакансий', fontsize=12)\n",
        "plt.ylabel('Регион', fontsize=12)\n",
        "plt.gca().invert_yaxis()  # Инвертируем порядок для сортировки сверху вниз\n",
        "plt.grid(axis='x', linestyle='--', alpha=0.7)\n",
        "\n",
        "# Добавляем значения на график\n",
        "for index, value in enumerate(top_regions['cnt']):\n",
        "    plt.text(value, index, f' {value}', va='center', fontsize=10)\n",
        "\n",
        "plt.tight_layout()\n",
        "plt.show()"
      ]
    },
    {
      "cell_type": "markdown",
      "id": "3fc0fd5c",
      "metadata": {},
      "source": [
        "4.2 Посмотрим на зарплаты. У какого количества вакансий заполнено хотя бы одно из двух полей с зарплатой?"
      ]
    },
    {
      "cell_type": "code",
      "execution_count": 20,
      "id": "2e3df6fe",
      "metadata": {},
      "outputs": [
        {
          "name": "stderr",
          "output_type": "stream",
          "text": [
            "C:\\Users\\foret\\AppData\\Local\\Temp\\ipykernel_8532\\167409697.py:10: UserWarning: pandas only supports SQLAlchemy connectable (engine/connection) or database string URI or sqlite3 DBAPI2 connection. Other DBAPI2 objects are not tested. Please consider using SQLAlchemy.\n",
            "  df = pd.read_sql_query(query, connection)\n"
          ]
        },
        {
          "data": {
            "text/html": [
              "<div>\n",
              "<style scoped>\n",
              "    .dataframe tbody tr th:only-of-type {\n",
              "        vertical-align: middle;\n",
              "    }\n",
              "\n",
              "    .dataframe tbody tr th {\n",
              "        vertical-align: top;\n",
              "    }\n",
              "\n",
              "    .dataframe thead th {\n",
              "        text-align: right;\n",
              "    }\n",
              "</style>\n",
              "<table border=\"1\" class=\"dataframe\">\n",
              "  <thead>\n",
              "    <tr style=\"text-align: right;\">\n",
              "      <th></th>\n",
              "      <th>cnt</th>\n",
              "    </tr>\n",
              "  </thead>\n",
              "  <tbody>\n",
              "    <tr>\n",
              "      <th>0</th>\n",
              "      <td>24073</td>\n",
              "    </tr>\n",
              "  </tbody>\n",
              "</table>\n",
              "</div>"
            ],
            "text/plain": [
              "     cnt\n",
              "0  24073"
            ]
          },
          "execution_count": 20,
          "metadata": {},
          "output_type": "execute_result"
        }
      ],
      "source": [
        "query = f'''\n",
        "SELECT\n",
        "    COUNT(*) AS cnt\n",
        "FROM\n",
        "    vacancies\n",
        "WHERE\n",
        "    salary_from IS NOT NULL OR salary_to IS NOT NULL;\n",
        "'''\n",
        "\n",
        "df = pd.read_sql_query(query, connection)\n",
        "df"
      ]
    },
    {
      "cell_type": "markdown",
      "id": "3b560042",
      "metadata": {},
      "source": [
        "4.3 Найдите средние значения для нижней и верхней границы зарплатной вилки. Округлите значения до целого числа."
      ]
    },
    {
      "cell_type": "code",
      "execution_count": 21,
      "id": "b8406beb",
      "metadata": {},
      "outputs": [
        {
          "name": "stderr",
          "output_type": "stream",
          "text": [
            "C:\\Users\\foret\\AppData\\Local\\Temp\\ipykernel_8532\\2672512348.py:10: UserWarning: pandas only supports SQLAlchemy connectable (engine/connection) or database string URI or sqlite3 DBAPI2 connection. Other DBAPI2 objects are not tested. Please consider using SQLAlchemy.\n",
            "  df = pd.read_sql_query(query, connection)\n"
          ]
        },
        {
          "data": {
            "text/html": [
              "<div>\n",
              "<style scoped>\n",
              "    .dataframe tbody tr th:only-of-type {\n",
              "        vertical-align: middle;\n",
              "    }\n",
              "\n",
              "    .dataframe tbody tr th {\n",
              "        vertical-align: top;\n",
              "    }\n",
              "\n",
              "    .dataframe thead th {\n",
              "        text-align: right;\n",
              "    }\n",
              "</style>\n",
              "<table border=\"1\" class=\"dataframe\">\n",
              "  <thead>\n",
              "    <tr style=\"text-align: right;\">\n",
              "      <th></th>\n",
              "      <th>avg_salary_from</th>\n",
              "      <th>avg_salary_to</th>\n",
              "    </tr>\n",
              "  </thead>\n",
              "  <tbody>\n",
              "    <tr>\n",
              "      <th>0</th>\n",
              "      <td>71065.0</td>\n",
              "      <td>110537.0</td>\n",
              "    </tr>\n",
              "  </tbody>\n",
              "</table>\n",
              "</div>"
            ],
            "text/plain": [
              "   avg_salary_from  avg_salary_to\n",
              "0          71065.0       110537.0"
            ]
          },
          "execution_count": 21,
          "metadata": {},
          "output_type": "execute_result"
        }
      ],
      "source": [
        "query = f'''\n",
        "SELECT\n",
        "    ROUND(AVG(salary_from)) AS avg_salary_from,\n",
        "    ROUND(AVG(salary_to)) AS avg_salary_to\n",
        "FROM\n",
        "    vacancies\n",
        "WHERE\n",
        "    salary_from IS NOT NULL OR salary_to IS NOT NULL;\n",
        "'''\n",
        "df = pd.read_sql_query(query, connection)\n",
        "df"
      ]
    },
    {
      "cell_type": "markdown",
      "id": "e56f55ef",
      "metadata": {},
      "source": [
        "4.4 Напишите запрос, который выведет количество вакансий для каждого сочетания типа рабочего графика (schedule) и типа трудоустройства (employment), используемого в вакансиях. Какая пара находится на втором месте по популярности?"
      ]
    },
    {
      "cell_type": "code",
      "execution_count": 22,
      "id": "0af1fa02",
      "metadata": {},
      "outputs": [
        {
          "name": "stderr",
          "output_type": "stream",
          "text": [
            "C:\\Users\\foret\\AppData\\Local\\Temp\\ipykernel_8532\\736891222.py:13: UserWarning: pandas only supports SQLAlchemy connectable (engine/connection) or database string URI or sqlite3 DBAPI2 connection. Other DBAPI2 objects are not tested. Please consider using SQLAlchemy.\n",
            "  df = pd.read_sql_query(query, connection)\n"
          ]
        },
        {
          "data": {
            "text/html": [
              "<div>\n",
              "<style scoped>\n",
              "    .dataframe tbody tr th:only-of-type {\n",
              "        vertical-align: middle;\n",
              "    }\n",
              "\n",
              "    .dataframe tbody tr th {\n",
              "        vertical-align: top;\n",
              "    }\n",
              "\n",
              "    .dataframe thead th {\n",
              "        text-align: right;\n",
              "    }\n",
              "</style>\n",
              "<table border=\"1\" class=\"dataframe\">\n",
              "  <thead>\n",
              "    <tr style=\"text-align: right;\">\n",
              "      <th></th>\n",
              "      <th>schedule</th>\n",
              "      <th>employment</th>\n",
              "      <th>cnt</th>\n",
              "    </tr>\n",
              "  </thead>\n",
              "  <tbody>\n",
              "    <tr>\n",
              "      <th>0</th>\n",
              "      <td>Полный день</td>\n",
              "      <td>Полная занятость</td>\n",
              "      <td>35367</td>\n",
              "    </tr>\n",
              "    <tr>\n",
              "      <th>1</th>\n",
              "      <td>Удаленная работа</td>\n",
              "      <td>Полная занятость</td>\n",
              "      <td>7802</td>\n",
              "    </tr>\n",
              "    <tr>\n",
              "      <th>2</th>\n",
              "      <td>Гибкий график</td>\n",
              "      <td>Полная занятость</td>\n",
              "      <td>1593</td>\n",
              "    </tr>\n",
              "    <tr>\n",
              "      <th>3</th>\n",
              "      <td>Удаленная работа</td>\n",
              "      <td>Частичная занятость</td>\n",
              "      <td>1312</td>\n",
              "    </tr>\n",
              "    <tr>\n",
              "      <th>4</th>\n",
              "      <td>Сменный график</td>\n",
              "      <td>Полная занятость</td>\n",
              "      <td>940</td>\n",
              "    </tr>\n",
              "    <tr>\n",
              "      <th>5</th>\n",
              "      <td>Полный день</td>\n",
              "      <td>Стажировка</td>\n",
              "      <td>569</td>\n",
              "    </tr>\n",
              "    <tr>\n",
              "      <th>6</th>\n",
              "      <td>Вахтовый метод</td>\n",
              "      <td>Полная занятость</td>\n",
              "      <td>367</td>\n",
              "    </tr>\n",
              "    <tr>\n",
              "      <th>7</th>\n",
              "      <td>Полный день</td>\n",
              "      <td>Частичная занятость</td>\n",
              "      <td>347</td>\n",
              "    </tr>\n",
              "    <tr>\n",
              "      <th>8</th>\n",
              "      <td>Гибкий график</td>\n",
              "      <td>Частичная занятость</td>\n",
              "      <td>312</td>\n",
              "    </tr>\n",
              "    <tr>\n",
              "      <th>9</th>\n",
              "      <td>Полный день</td>\n",
              "      <td>Проектная работа</td>\n",
              "      <td>141</td>\n",
              "    </tr>\n",
              "    <tr>\n",
              "      <th>10</th>\n",
              "      <td>Удаленная работа</td>\n",
              "      <td>Проектная работа</td>\n",
              "      <td>133</td>\n",
              "    </tr>\n",
              "    <tr>\n",
              "      <th>11</th>\n",
              "      <td>Гибкий график</td>\n",
              "      <td>Стажировка</td>\n",
              "      <td>116</td>\n",
              "    </tr>\n",
              "    <tr>\n",
              "      <th>12</th>\n",
              "      <td>Сменный график</td>\n",
              "      <td>Частичная занятость</td>\n",
              "      <td>101</td>\n",
              "    </tr>\n",
              "    <tr>\n",
              "      <th>13</th>\n",
              "      <td>Удаленная работа</td>\n",
              "      <td>Стажировка</td>\n",
              "      <td>64</td>\n",
              "    </tr>\n",
              "    <tr>\n",
              "      <th>14</th>\n",
              "      <td>Гибкий график</td>\n",
              "      <td>Проектная работа</td>\n",
              "      <td>18</td>\n",
              "    </tr>\n",
              "    <tr>\n",
              "      <th>15</th>\n",
              "      <td>Сменный график</td>\n",
              "      <td>Стажировка</td>\n",
              "      <td>12</td>\n",
              "    </tr>\n",
              "    <tr>\n",
              "      <th>16</th>\n",
              "      <td>Вахтовый метод</td>\n",
              "      <td>Проектная работа</td>\n",
              "      <td>2</td>\n",
              "    </tr>\n",
              "    <tr>\n",
              "      <th>17</th>\n",
              "      <td>Сменный график</td>\n",
              "      <td>Проектная работа</td>\n",
              "      <td>1</td>\n",
              "    </tr>\n",
              "  </tbody>\n",
              "</table>\n",
              "</div>"
            ],
            "text/plain": [
              "            schedule           employment    cnt\n",
              "0        Полный день     Полная занятость  35367\n",
              "1   Удаленная работа     Полная занятость   7802\n",
              "2      Гибкий график     Полная занятость   1593\n",
              "3   Удаленная работа  Частичная занятость   1312\n",
              "4     Сменный график     Полная занятость    940\n",
              "5        Полный день           Стажировка    569\n",
              "6     Вахтовый метод     Полная занятость    367\n",
              "7        Полный день  Частичная занятость    347\n",
              "8      Гибкий график  Частичная занятость    312\n",
              "9        Полный день     Проектная работа    141\n",
              "10  Удаленная работа     Проектная работа    133\n",
              "11     Гибкий график           Стажировка    116\n",
              "12    Сменный график  Частичная занятость    101\n",
              "13  Удаленная работа           Стажировка     64\n",
              "14     Гибкий график     Проектная работа     18\n",
              "15    Сменный график           Стажировка     12\n",
              "16    Вахтовый метод     Проектная работа      2\n",
              "17    Сменный график     Проектная работа      1"
            ]
          },
          "execution_count": 22,
          "metadata": {},
          "output_type": "execute_result"
        }
      ],
      "source": [
        "query = f'''\n",
        "SELECT\n",
        "    schedule,\n",
        "    employment,\n",
        "    COUNT(*) AS cnt\n",
        "FROM\n",
        "    vacancies\n",
        "GROUP BY\n",
        "    schedule, employment\n",
        "ORDER BY\n",
        "    cnt DESC;\n",
        "'''\n",
        "df = pd.read_sql_query(query, connection)\n",
        "df"
      ]
    },
    {
      "cell_type": "markdown",
      "id": "72d9575d",
      "metadata": {},
      "source": [
        "4.5 Напишите запрос, выводящий значения поля Требуемый опыт работы (experience) в порядке возрастания количества вакансий, в которых указан данный вариант опыта."
      ]
    },
    {
      "cell_type": "code",
      "execution_count": 23,
      "id": "a42edbf1",
      "metadata": {},
      "outputs": [
        {
          "name": "stderr",
          "output_type": "stream",
          "text": [
            "C:\\Users\\foret\\AppData\\Local\\Temp\\ipykernel_8532\\3230532151.py:12: UserWarning: pandas only supports SQLAlchemy connectable (engine/connection) or database string URI or sqlite3 DBAPI2 connection. Other DBAPI2 objects are not tested. Please consider using SQLAlchemy.\n",
            "  df = pd.read_sql_query(query, connection)\n"
          ]
        },
        {
          "data": {
            "text/html": [
              "<div>\n",
              "<style scoped>\n",
              "    .dataframe tbody tr th:only-of-type {\n",
              "        vertical-align: middle;\n",
              "    }\n",
              "\n",
              "    .dataframe tbody tr th {\n",
              "        vertical-align: top;\n",
              "    }\n",
              "\n",
              "    .dataframe thead th {\n",
              "        text-align: right;\n",
              "    }\n",
              "</style>\n",
              "<table border=\"1\" class=\"dataframe\">\n",
              "  <thead>\n",
              "    <tr style=\"text-align: right;\">\n",
              "      <th></th>\n",
              "      <th>experience</th>\n",
              "      <th>cnt</th>\n",
              "    </tr>\n",
              "  </thead>\n",
              "  <tbody>\n",
              "    <tr>\n",
              "      <th>0</th>\n",
              "      <td>Более 6 лет</td>\n",
              "      <td>1337</td>\n",
              "    </tr>\n",
              "    <tr>\n",
              "      <th>1</th>\n",
              "      <td>Нет опыта</td>\n",
              "      <td>7197</td>\n",
              "    </tr>\n",
              "    <tr>\n",
              "      <th>2</th>\n",
              "      <td>От 3 до 6 лет</td>\n",
              "      <td>14511</td>\n",
              "    </tr>\n",
              "    <tr>\n",
              "      <th>3</th>\n",
              "      <td>От 1 года до 3 лет</td>\n",
              "      <td>26152</td>\n",
              "    </tr>\n",
              "  </tbody>\n",
              "</table>\n",
              "</div>"
            ],
            "text/plain": [
              "           experience    cnt\n",
              "0         Более 6 лет   1337\n",
              "1           Нет опыта   7197\n",
              "2       От 3 до 6 лет  14511\n",
              "3  От 1 года до 3 лет  26152"
            ]
          },
          "execution_count": 23,
          "metadata": {},
          "output_type": "execute_result"
        }
      ],
      "source": [
        "query = f'''\n",
        "SELECT\n",
        "    experience,\n",
        "    COUNT(*) AS cnt\n",
        "FROM\n",
        "    vacancies\n",
        "GROUP BY\n",
        "    experience\n",
        "ORDER BY\n",
        "    cnt ASC;\n",
        "'''\n",
        "df = pd.read_sql_query(query, connection)\n",
        "df"
      ]
    },
    {
      "cell_type": "code",
      "execution_count": 24,
      "id": "bd12f045",
      "metadata": {},
      "outputs": [
        {
          "data": {
            "image/png": "[encoded data removed]",
            "text/plain": [
              "<Figure size 800x800 with 1 Axes>"
            ]
          },
          "metadata": {},
          "output_type": "display_data"
        }
      ],
      "source": [
        "import matplotlib.pyplot as plt\n",
        "\n",
        "# Данные из вашего DataFrame\n",
        "experience = df['experience']\n",
        "cnt = df['cnt']\n",
        "\n",
        "# Создаем фигуру и оси\n",
        "plt.figure(figsize=(8, 8))\n",
        "\n",
        "# Круговая диаграмма\n",
        "plt.pie(\n",
        "    cnt, \n",
        "    labels=experience, \n",
        "    autopct='%1.1f%%',  # Процентное соотношение\n",
        "    startangle=90,      # Начальный угол\n",
        "    colors=plt.cm.tab20.colors,  # Цветовая схема\n",
        "    textprops={'fontsize': 12}  # Размер шрифта\n",
        ")\n",
        "\n",
        "# Добавляем заголовок\n",
        "plt.title('Распределение вакансий по опыту', fontsize=16)\n",
        "\n",
        "# Показываем график\n",
        "plt.tight_layout()\n",
        "plt.show()"
      ]
    },
    {
      "cell_type": "markdown",
      "id": "3588020f",
      "metadata": {},
      "source": [
        "### ВЫВОДЫ:"
      ]
    },
    {
      "cell_type": "markdown",
      "id": "b1857dee",
      "metadata": {},
      "source": [
        "``География вакансий``: Москва и Санкт-Петербург лидируют по количеству вакансий, что подтверждает их статус крупнейших экономических центров.  \n",
        "``Зарплаты``: Средняя зарплатная вилка составляет от 71 до 110 тысяч рублей, что может служить ориентиром для соискателей.  \n",
        "``Типы занятости``: Наиболее популярны вакансии с полной занятостью и полным рабочим днем, но удаленная работа также набирает популярность.  \n",
        "``Опыт работы``: Больше всего вакансий для кандидатов с опытом от 1 года до 3 лет, что указывает на высокий спрос на специалистов начального и среднего уровня.  "
      ]
    },
    {
      "cell_type": "markdown",
      "id": "58a38155",
      "metadata": {},
      "source": [
        "============================================================================================================================"
      ]
    },
    {
      "cell_type": "markdown",
      "id": "4d5237a4",
      "metadata": {},
      "source": [
        "### 5. Анализ работодателей"
      ]
    },
    {
      "cell_type": "markdown",
      "id": "d0503314",
      "metadata": {},
      "source": [
        "5.1 Напишите запрос, который позволит узнать, какие работодатели находятся на первом и пятом месте по количеству вакансий."
      ]
    },
    {
      "cell_type": "code",
      "execution_count": 25,
      "id": "195c6f2b",
      "metadata": {},
      "outputs": [
        {
          "name": "stderr",
          "output_type": "stream",
          "text": [
            "C:\\Users\\foret\\AppData\\Local\\Temp\\ipykernel_8532\\2880573439.py:15: UserWarning: pandas only supports SQLAlchemy connectable (engine/connection) or database string URI or sqlite3 DBAPI2 connection. Other DBAPI2 objects are not tested. Please consider using SQLAlchemy.\n",
            "  df = pd.read_sql_query(query, connection)\n"
          ]
        },
        {
          "data": {
            "text/html": [
              "<div>\n",
              "<style scoped>\n",
              "    .dataframe tbody tr th:only-of-type {\n",
              "        vertical-align: middle;\n",
              "    }\n",
              "\n",
              "    .dataframe tbody tr th {\n",
              "        vertical-align: top;\n",
              "    }\n",
              "\n",
              "    .dataframe thead th {\n",
              "        text-align: right;\n",
              "    }\n",
              "</style>\n",
              "<table border=\"1\" class=\"dataframe\">\n",
              "  <thead>\n",
              "    <tr style=\"text-align: right;\">\n",
              "      <th></th>\n",
              "      <th>employer_name</th>\n",
              "      <th>vacancy_count</th>\n",
              "    </tr>\n",
              "  </thead>\n",
              "  <tbody>\n",
              "    <tr>\n",
              "      <th>0</th>\n",
              "      <td>Яндекс</td>\n",
              "      <td>1933</td>\n",
              "    </tr>\n",
              "    <tr>\n",
              "      <th>1</th>\n",
              "      <td>Ростелеком</td>\n",
              "      <td>491</td>\n",
              "    </tr>\n",
              "    <tr>\n",
              "      <th>2</th>\n",
              "      <td>Тинькофф</td>\n",
              "      <td>444</td>\n",
              "    </tr>\n",
              "    <tr>\n",
              "      <th>3</th>\n",
              "      <td>СБЕР</td>\n",
              "      <td>428</td>\n",
              "    </tr>\n",
              "    <tr>\n",
              "      <th>4</th>\n",
              "      <td>Газпром нефть</td>\n",
              "      <td>331</td>\n",
              "    </tr>\n",
              "    <tr>\n",
              "      <th>5</th>\n",
              "      <td>ИК СИБИНТЕК</td>\n",
              "      <td>327</td>\n",
              "    </tr>\n",
              "    <tr>\n",
              "      <th>6</th>\n",
              "      <td>МТС</td>\n",
              "      <td>292</td>\n",
              "    </tr>\n",
              "    <tr>\n",
              "      <th>7</th>\n",
              "      <td>DataArt</td>\n",
              "      <td>247</td>\n",
              "    </tr>\n",
              "    <tr>\n",
              "      <th>8</th>\n",
              "      <td>Совкомбанк Технологии</td>\n",
              "      <td>204</td>\n",
              "    </tr>\n",
              "    <tr>\n",
              "      <th>9</th>\n",
              "      <td>Первый Бит</td>\n",
              "      <td>176</td>\n",
              "    </tr>\n",
              "    <tr>\n",
              "      <th>10</th>\n",
              "      <td>Ozon</td>\n",
              "      <td>175</td>\n",
              "    </tr>\n",
              "    <tr>\n",
              "      <th>11</th>\n",
              "      <td>IBS</td>\n",
              "      <td>175</td>\n",
              "    </tr>\n",
              "    <tr>\n",
              "      <th>12</th>\n",
              "      <td>Andersen</td>\n",
              "      <td>155</td>\n",
              "    </tr>\n",
              "    <tr>\n",
              "      <th>13</th>\n",
              "      <td>Тензор</td>\n",
              "      <td>155</td>\n",
              "    </tr>\n",
              "    <tr>\n",
              "      <th>14</th>\n",
              "      <td>Спецремонт</td>\n",
              "      <td>151</td>\n",
              "    </tr>\n",
              "    <tr>\n",
              "      <th>15</th>\n",
              "      <td>VK</td>\n",
              "      <td>150</td>\n",
              "    </tr>\n",
              "    <tr>\n",
              "      <th>16</th>\n",
              "      <td>Поляков Денис Иванович</td>\n",
              "      <td>127</td>\n",
              "    </tr>\n",
              "    <tr>\n",
              "      <th>17</th>\n",
              "      <td>Иннотех, Группа компаний</td>\n",
              "      <td>122</td>\n",
              "    </tr>\n",
              "    <tr>\n",
              "      <th>18</th>\n",
              "      <td>Bell Integrator</td>\n",
              "      <td>121</td>\n",
              "    </tr>\n",
              "    <tr>\n",
              "      <th>19</th>\n",
              "      <td>ANCOR</td>\n",
              "      <td>118</td>\n",
              "    </tr>\n",
              "  </tbody>\n",
              "</table>\n",
              "</div>"
            ],
            "text/plain": [
              "               employer_name  vacancy_count\n",
              "0                     Яндекс           1933\n",
              "1                 Ростелеком            491\n",
              "2                   Тинькофф            444\n",
              "3                       СБЕР            428\n",
              "4              Газпром нефть            331\n",
              "5                ИК СИБИНТЕК            327\n",
              "6                        МТС            292\n",
              "7                    DataArt            247\n",
              "8      Совкомбанк Технологии            204\n",
              "9                 Первый Бит            176\n",
              "10                      Ozon            175\n",
              "11                       IBS            175\n",
              "12                  Andersen            155\n",
              "13                    Тензор            155\n",
              "14                Спецремонт            151\n",
              "15                        VK            150\n",
              "16    Поляков Денис Иванович            127\n",
              "17  Иннотех, Группа компаний            122\n",
              "18           Bell Integrator            121\n",
              "19                     ANCOR            118"
            ]
          },
          "execution_count": 25,
          "metadata": {},
          "output_type": "execute_result"
        }
      ],
      "source": [
        "query = f'''\n",
        "SELECT\n",
        "    e.name AS employer_name,\n",
        "    COUNT(v.id) AS vacancy_count\n",
        "FROM\n",
        "    vacancies v\n",
        "JOIN\n",
        "    employers e ON v.employer_id = e.id\n",
        "GROUP BY\n",
        "    e.name\n",
        "ORDER BY\n",
        "    vacancy_count DESC\n",
        "LIMIT 20;\n",
        "'''\n",
        "df = pd.read_sql_query(query, connection)\n",
        "df"
      ]
    },
    {
      "cell_type": "code",
      "execution_count": 26,
      "id": "1997689b",
      "metadata": {},
      "outputs": [
        {
          "data": {
            "image/png": "[encoded data removed]",
            "text/plain": [
              "<Figure size 1000x800 with 1 Axes>"
            ]
          },
          "metadata": {},
          "output_type": "display_data"
        }
      ],
      "source": [
        "employer_name = df['employer_name']\n",
        "vacancy_count = df['vacancy_count']\n",
        "\n",
        "# Создаем фигуру и оси\n",
        "plt.figure(figsize=(10, 8))\n",
        "\n",
        "# Горизонтальная столбчатая диаграмма\n",
        "plt.barh(employer_name, vacancy_count, color='skyblue')\n",
        "\n",
        "# Добавляем подписи и заголовок\n",
        "plt.xlabel('Количество вакансий')\n",
        "plt.ylabel('Работодатель')\n",
        "plt.title('Топ-20 работодателей по количеству вакансий', fontsize=16)\n",
        "\n",
        "# Добавляем аннотации (значения количества вакансий)\n",
        "for i, value in enumerate(vacancy_count):\n",
        "    plt.text(value, i, f' {value}', va='center', ha='left', fontsize=10)\n",
        "\n",
        "# Улучшаем читаемость\n",
        "plt.gca().invert_yaxis()  # Инвертируем ось Y, чтобы самый крупный работодатель был наверху\n",
        "plt.tight_layout()\n",
        "\n",
        "# Показываем график\n",
        "plt.show()"
      ]
    },
    {
      "cell_type": "markdown",
      "id": "c0d30348",
      "metadata": {},
      "source": [
        "5.2 Напишите запрос, который для каждого региона выведет количество работодателей и вакансий в нём.\n",
        "\n",
        "Среди регионов, в которых нет вакансий, найдите тот, в котором наибольшее количество работодателей. Впишите его название в поле ниже в том виде, который вернул запрос."
      ]
    },
    {
      "cell_type": "code",
      "execution_count": 27,
      "id": "8e189f32",
      "metadata": {},
      "outputs": [
        {
          "name": "stderr",
          "output_type": "stream",
          "text": [
            "C:\\Users\\foret\\AppData\\Local\\Temp\\ipykernel_8532\\173856766.py:19: UserWarning: pandas only supports SQLAlchemy connectable (engine/connection) or database string URI or sqlite3 DBAPI2 connection. Other DBAPI2 objects are not tested. Please consider using SQLAlchemy.\n",
            "  df = pd.read_sql_query(query, connection)\n"
          ]
        },
        {
          "data": {
            "text/html": [
              "<div>\n",
              "<style scoped>\n",
              "    .dataframe tbody tr th:only-of-type {\n",
              "        vertical-align: middle;\n",
              "    }\n",
              "\n",
              "    .dataframe tbody tr th {\n",
              "        vertical-align: top;\n",
              "    }\n",
              "\n",
              "    .dataframe thead th {\n",
              "        text-align: right;\n",
              "    }\n",
              "</style>\n",
              "<table border=\"1\" class=\"dataframe\">\n",
              "  <thead>\n",
              "    <tr style=\"text-align: right;\">\n",
              "      <th></th>\n",
              "      <th>area</th>\n",
              "      <th>vacancy_count</th>\n",
              "      <th>employer_count</th>\n",
              "    </tr>\n",
              "  </thead>\n",
              "  <tbody>\n",
              "    <tr>\n",
              "      <th>0</th>\n",
              "      <td>Россия</td>\n",
              "      <td>0</td>\n",
              "      <td>410</td>\n",
              "    </tr>\n",
              "    <tr>\n",
              "      <th>1</th>\n",
              "      <td>Казахстан</td>\n",
              "      <td>0</td>\n",
              "      <td>207</td>\n",
              "    </tr>\n",
              "    <tr>\n",
              "      <th>2</th>\n",
              "      <td>Московская область</td>\n",
              "      <td>0</td>\n",
              "      <td>75</td>\n",
              "    </tr>\n",
              "    <tr>\n",
              "      <th>3</th>\n",
              "      <td>Краснодарский край</td>\n",
              "      <td>0</td>\n",
              "      <td>19</td>\n",
              "    </tr>\n",
              "    <tr>\n",
              "      <th>4</th>\n",
              "      <td>Беларусь</td>\n",
              "      <td>0</td>\n",
              "      <td>18</td>\n",
              "    </tr>\n",
              "    <tr>\n",
              "      <th>...</th>\n",
              "      <td>...</td>\n",
              "      <td>...</td>\n",
              "      <td>...</td>\n",
              "    </tr>\n",
              "    <tr>\n",
              "      <th>588</th>\n",
              "      <td>Кувандык</td>\n",
              "      <td>0</td>\n",
              "      <td>0</td>\n",
              "    </tr>\n",
              "    <tr>\n",
              "      <th>589</th>\n",
              "      <td>Куйбышев</td>\n",
              "      <td>0</td>\n",
              "      <td>0</td>\n",
              "    </tr>\n",
              "    <tr>\n",
              "      <th>590</th>\n",
              "      <td>Куйбышево (Ростовская область)</td>\n",
              "      <td>0</td>\n",
              "      <td>0</td>\n",
              "    </tr>\n",
              "    <tr>\n",
              "      <th>591</th>\n",
              "      <td>Култаево</td>\n",
              "      <td>0</td>\n",
              "      <td>0</td>\n",
              "    </tr>\n",
              "    <tr>\n",
              "      <th>592</th>\n",
              "      <td>Кульсары</td>\n",
              "      <td>0</td>\n",
              "      <td>0</td>\n",
              "    </tr>\n",
              "  </tbody>\n",
              "</table>\n",
              "<p>593 rows × 3 columns</p>\n",
              "</div>"
            ],
            "text/plain": [
              "                               area  vacancy_count  employer_count\n",
              "0                            Россия              0             410\n",
              "1                         Казахстан              0             207\n",
              "2                Московская область              0              75\n",
              "3                Краснодарский край              0              19\n",
              "4                          Беларусь              0              18\n",
              "..                              ...            ...             ...\n",
              "588                        Кувандык              0               0\n",
              "589                        Куйбышев              0               0\n",
              "590  Куйбышево (Ростовская область)              0               0\n",
              "591                        Култаево              0               0\n",
              "592                        Кульсары              0               0\n",
              "\n",
              "[593 rows x 3 columns]"
            ]
          },
          "execution_count": 27,
          "metadata": {},
          "output_type": "execute_result"
        }
      ],
      "source": [
        "query = f'''\n",
        "SELECT\n",
        "    a.name AS area,\n",
        "    COUNT(DISTINCT v.id) AS vacancy_count,  \n",
        "    COUNT(DISTINCT e.id) AS employer_count  \n",
        "FROM\n",
        "    areas a\n",
        "LEFT JOIN\n",
        "    vacancies v ON a.id = v.area_id\n",
        "LEFT JOIN\n",
        "    employers e ON a.id = e.area\n",
        "WHERE\n",
        "    v.area_id IS NULL  \n",
        "GROUP BY\n",
        "    a.name\n",
        "ORDER BY\n",
        "    employer_count DESC;  \n",
        "'''\n",
        "df = pd.read_sql_query(query, connection)\n",
        "df"
      ]
    },
    {
      "cell_type": "markdown",
      "id": "91ab1a02",
      "metadata": {},
      "source": [
        "5.3 Для каждого работодателя посчитайте количество регионов, в которых он публикует свои вакансии.\n",
        "\n",
        "Выберите максимальное значение из получившегося списка."
      ]
    },
    {
      "cell_type": "code",
      "execution_count": 28,
      "id": "7a57a37e",
      "metadata": {},
      "outputs": [
        {
          "name": "stderr",
          "output_type": "stream",
          "text": [
            "C:\\Users\\foret\\AppData\\Local\\Temp\\ipykernel_8532\\361439537.py:17: UserWarning: pandas only supports SQLAlchemy connectable (engine/connection) or database string URI or sqlite3 DBAPI2 connection. Other DBAPI2 objects are not tested. Please consider using SQLAlchemy.\n",
            "  df = pd.read_sql_query(query, connection)\n"
          ]
        },
        {
          "data": {
            "text/html": [
              "<div>\n",
              "<style scoped>\n",
              "    .dataframe tbody tr th:only-of-type {\n",
              "        vertical-align: middle;\n",
              "    }\n",
              "\n",
              "    .dataframe tbody tr th {\n",
              "        vertical-align: top;\n",
              "    }\n",
              "\n",
              "    .dataframe thead th {\n",
              "        text-align: right;\n",
              "    }\n",
              "</style>\n",
              "<table border=\"1\" class=\"dataframe\">\n",
              "  <thead>\n",
              "    <tr style=\"text-align: right;\">\n",
              "      <th></th>\n",
              "      <th>employer_name</th>\n",
              "      <th>region_count</th>\n",
              "      <th>regions</th>\n",
              "    </tr>\n",
              "  </thead>\n",
              "  <tbody>\n",
              "    <tr>\n",
              "      <th>0</th>\n",
              "      <td>Яндекс</td>\n",
              "      <td>181</td>\n",
              "      <td>Абакан, Актау, Актобе, Альметьевск, Ангарск, А...</td>\n",
              "    </tr>\n",
              "    <tr>\n",
              "      <th>1</th>\n",
              "      <td>Ростелеком</td>\n",
              "      <td>152</td>\n",
              "      <td>Абакан, Аликово, Ангарск, Архангельск, Астраха...</td>\n",
              "    </tr>\n",
              "    <tr>\n",
              "      <th>2</th>\n",
              "      <td>Спецремонт</td>\n",
              "      <td>116</td>\n",
              "      <td>Абакан, Альметьевск, Ангарск, Арзамас, Армавир...</td>\n",
              "    </tr>\n",
              "    <tr>\n",
              "      <th>3</th>\n",
              "      <td>Поляков Денис Иванович</td>\n",
              "      <td>88</td>\n",
              "      <td>Ангарск, Артем, Архангельск, Астрахань, Балако...</td>\n",
              "    </tr>\n",
              "    <tr>\n",
              "      <th>4</th>\n",
              "      <td>ООО ЕФИН</td>\n",
              "      <td>71</td>\n",
              "      <td>Алматы, Арзамас, Архангельск, Астрахань, Балаш...</td>\n",
              "    </tr>\n",
              "    <tr>\n",
              "      <th>...</th>\n",
              "      <td>...</td>\n",
              "      <td>...</td>\n",
              "      <td>...</td>\n",
              "    </tr>\n",
              "    <tr>\n",
              "      <th>23496</th>\n",
              "      <td>Но Смокинг</td>\n",
              "      <td>0</td>\n",
              "      <td>None</td>\n",
              "    </tr>\n",
              "    <tr>\n",
              "      <th>23497</th>\n",
              "      <td>МАСТЕРСКАЯ CREED</td>\n",
              "      <td>0</td>\n",
              "      <td>None</td>\n",
              "    </tr>\n",
              "    <tr>\n",
              "      <th>23498</th>\n",
              "      <td>Dzing Finance</td>\n",
              "      <td>0</td>\n",
              "      <td>None</td>\n",
              "    </tr>\n",
              "    <tr>\n",
              "      <th>23499</th>\n",
              "      <td>КОРС</td>\n",
              "      <td>0</td>\n",
              "      <td>None</td>\n",
              "    </tr>\n",
              "    <tr>\n",
              "      <th>23500</th>\n",
              "      <td>Наука-Связь</td>\n",
              "      <td>0</td>\n",
              "      <td>None</td>\n",
              "    </tr>\n",
              "  </tbody>\n",
              "</table>\n",
              "<p>23501 rows × 3 columns</p>\n",
              "</div>"
            ],
            "text/plain": [
              "                employer_name  region_count  \\\n",
              "0                      Яндекс           181   \n",
              "1                  Ростелеком           152   \n",
              "2                  Спецремонт           116   \n",
              "3      Поляков Денис Иванович            88   \n",
              "4                   ООО ЕФИН             71   \n",
              "...                       ...           ...   \n",
              "23496              Но Смокинг             0   \n",
              "23497        МАСТЕРСКАЯ CREED             0   \n",
              "23498           Dzing Finance             0   \n",
              "23499                    КОРС             0   \n",
              "23500             Наука-Связь             0   \n",
              "\n",
              "                                                 regions  \n",
              "0      Абакан, Актау, Актобе, Альметьевск, Ангарск, А...  \n",
              "1      Абакан, Аликово, Ангарск, Архангельск, Астраха...  \n",
              "2      Абакан, Альметьевск, Ангарск, Арзамас, Армавир...  \n",
              "3      Ангарск, Артем, Архангельск, Астрахань, Балако...  \n",
              "4      Алматы, Арзамас, Архангельск, Астрахань, Балаш...  \n",
              "...                                                  ...  \n",
              "23496                                               None  \n",
              "23497                                               None  \n",
              "23498                                               None  \n",
              "23499                                               None  \n",
              "23500                                               None  \n",
              "\n",
              "[23501 rows x 3 columns]"
            ]
          },
          "execution_count": 28,
          "metadata": {},
          "output_type": "execute_result"
        }
      ],
      "source": [
        "query = f'''\n",
        "SELECT\n",
        "    e.name AS employer_name,\n",
        "    COUNT(DISTINCT v.area_id) AS region_count,\n",
        "    STRING_AGG(DISTINCT a.name, ', ') AS regions\n",
        "FROM\n",
        "    employers e\n",
        "LEFT JOIN\n",
        "    vacancies v ON e.id = v.employer_id\n",
        "LEFT JOIN\n",
        "    areas a ON v.area_id = a.id\n",
        "GROUP BY\n",
        "    e.id, e.name\n",
        "ORDER BY\n",
        "    region_count DESC;\n",
        "'''\n",
        "df = pd.read_sql_query(query, connection)\n",
        "df"
      ]
    },
    {
      "cell_type": "markdown",
      "id": "5dcd57c3",
      "metadata": {},
      "source": [
        "5.4 Напишите запрос для подсчёта количества работодателей, у которых не указана сфера деятельности."
      ]
    },
    {
      "cell_type": "code",
      "execution_count": 29,
      "id": "feeee964",
      "metadata": {},
      "outputs": [
        {
          "name": "stderr",
          "output_type": "stream",
          "text": [
            "C:\\Users\\foret\\AppData\\Local\\Temp\\ipykernel_8532\\2651558989.py:11: UserWarning: pandas only supports SQLAlchemy connectable (engine/connection) or database string URI or sqlite3 DBAPI2 connection. Other DBAPI2 objects are not tested. Please consider using SQLAlchemy.\n",
            "  df = pd.read_sql_query(query, connection)\n"
          ]
        },
        {
          "data": {
            "text/html": [
              "<div>\n",
              "<style scoped>\n",
              "    .dataframe tbody tr th:only-of-type {\n",
              "        vertical-align: middle;\n",
              "    }\n",
              "\n",
              "    .dataframe tbody tr th {\n",
              "        vertical-align: top;\n",
              "    }\n",
              "\n",
              "    .dataframe thead th {\n",
              "        text-align: right;\n",
              "    }\n",
              "</style>\n",
              "<table border=\"1\" class=\"dataframe\">\n",
              "  <thead>\n",
              "    <tr style=\"text-align: right;\">\n",
              "      <th></th>\n",
              "      <th>employers_without_industry</th>\n",
              "    </tr>\n",
              "  </thead>\n",
              "  <tbody>\n",
              "    <tr>\n",
              "      <th>0</th>\n",
              "      <td>8419</td>\n",
              "    </tr>\n",
              "  </tbody>\n",
              "</table>\n",
              "</div>"
            ],
            "text/plain": [
              "   employers_without_industry\n",
              "0                        8419"
            ]
          },
          "execution_count": 29,
          "metadata": {},
          "output_type": "execute_result"
        }
      ],
      "source": [
        "query = f'''\n",
        "SELECT\n",
        "    COUNT(*) AS employers_without_industry\n",
        "FROM\n",
        "    employers e\n",
        "LEFT JOIN\n",
        "    employers_industries ei ON e.id = ei.employer_id\n",
        "WHERE\n",
        "    ei.industry_id IS NULL;\n",
        "'''\n",
        "df = pd.read_sql_query(query, connection)\n",
        "df"
      ]
    },
    {
      "cell_type": "markdown",
      "id": "eb8ec25e",
      "metadata": {},
      "source": [
        "5.5 Напишите запрос, чтобы узнать название компании, находящейся на третьем месте в алфавитном списке (по названию) компаний, у которых указано четыре сферы деятельности.\n",
        "\n",
        "Введите в поле ниже название этой компании так же, как оно указано в результате запроса."
      ]
    },
    {
      "cell_type": "code",
      "execution_count": 30,
      "id": "6c181e5e",
      "metadata": {},
      "outputs": [
        {
          "name": "stderr",
          "output_type": "stream",
          "text": [
            "C:\\Users\\foret\\AppData\\Local\\Temp\\ipykernel_8532\\2668240334.py:16: UserWarning: pandas only supports SQLAlchemy connectable (engine/connection) or database string URI or sqlite3 DBAPI2 connection. Other DBAPI2 objects are not tested. Please consider using SQLAlchemy.\n",
            "  df = pd.read_sql_query(query, connection)\n"
          ]
        },
        {
          "data": {
            "text/html": [
              "<div>\n",
              "<style scoped>\n",
              "    .dataframe tbody tr th:only-of-type {\n",
              "        vertical-align: middle;\n",
              "    }\n",
              "\n",
              "    .dataframe tbody tr th {\n",
              "        vertical-align: top;\n",
              "    }\n",
              "\n",
              "    .dataframe thead th {\n",
              "        text-align: right;\n",
              "    }\n",
              "</style>\n",
              "<table border=\"1\" class=\"dataframe\">\n",
              "  <thead>\n",
              "    <tr style=\"text-align: right;\">\n",
              "      <th></th>\n",
              "      <th>employer_name</th>\n",
              "    </tr>\n",
              "  </thead>\n",
              "  <tbody>\n",
              "    <tr>\n",
              "      <th>0</th>\n",
              "      <td>101 Интернет</td>\n",
              "    </tr>\n",
              "    <tr>\n",
              "      <th>1</th>\n",
              "      <td>21vek.by</td>\n",
              "    </tr>\n",
              "    <tr>\n",
              "      <th>2</th>\n",
              "      <td>2ГИС</td>\n",
              "    </tr>\n",
              "    <tr>\n",
              "      <th>3</th>\n",
              "      <td>2К</td>\n",
              "    </tr>\n",
              "    <tr>\n",
              "      <th>4</th>\n",
              "      <td>4 пикселя +</td>\n",
              "    </tr>\n",
              "    <tr>\n",
              "      <th>5</th>\n",
              "      <td>5lb</td>\n",
              "    </tr>\n",
              "    <tr>\n",
              "      <th>6</th>\n",
              "      <td>5 Армия</td>\n",
              "    </tr>\n",
              "    <tr>\n",
              "      <th>7</th>\n",
              "      <td>741 Studios</td>\n",
              "    </tr>\n",
              "    <tr>\n",
              "      <th>8</th>\n",
              "      <td>AAEngineering Group</td>\n",
              "    </tr>\n",
              "    <tr>\n",
              "      <th>9</th>\n",
              "      <td>ADAPTER</td>\n",
              "    </tr>\n",
              "  </tbody>\n",
              "</table>\n",
              "</div>"
            ],
            "text/plain": [
              "         employer_name\n",
              "0         101 Интернет\n",
              "1             21vek.by\n",
              "2                 2ГИС\n",
              "3                   2К\n",
              "4          4 пикселя +\n",
              "5                  5lb\n",
              "6              5 Армия\n",
              "7          741 Studios\n",
              "8  AAEngineering Group\n",
              "9              ADAPTER"
            ]
          },
          "execution_count": 30,
          "metadata": {},
          "output_type": "execute_result"
        }
      ],
      "source": [
        "query = f'''\n",
        "SELECT\n",
        "    e.name AS employer_name\n",
        "FROM\n",
        "    employers e\n",
        "JOIN\n",
        "    employers_industries ei ON e.id = ei.employer_id\n",
        "GROUP BY\n",
        "    e.id, e.name\n",
        "HAVING\n",
        "    COUNT(ei.industry_id) = 4\n",
        "ORDER BY\n",
        "    e.name ASC\n",
        "LIMIT 10;\n",
        "'''\n",
        "df = pd.read_sql_query(query, connection)\n",
        "df\n"
      ]
    },
    {
      "cell_type": "markdown",
      "id": "562ada3e",
      "metadata": {},
      "source": [
        "5.6 С помощью запроса выясните, у какого количества работодателей в качестве сферы деятельности указана «Разработка программного обеспечения»."
      ]
    },
    {
      "cell_type": "code",
      "execution_count": 31,
      "id": "d566da8e",
      "metadata": {},
      "outputs": [
        {
          "name": "stderr",
          "output_type": "stream",
          "text": [
            "C:\\Users\\foret\\AppData\\Local\\Temp\\ipykernel_8532\\924926022.py:11: UserWarning: pandas only supports SQLAlchemy connectable (engine/connection) or database string URI or sqlite3 DBAPI2 connection. Other DBAPI2 objects are not tested. Please consider using SQLAlchemy.\n",
            "  df = pd.read_sql_query(query, connection)\n"
          ]
        },
        {
          "data": {
            "text/html": [
              "<div>\n",
              "<style scoped>\n",
              "    .dataframe tbody tr th:only-of-type {\n",
              "        vertical-align: middle;\n",
              "    }\n",
              "\n",
              "    .dataframe tbody tr th {\n",
              "        vertical-align: top;\n",
              "    }\n",
              "\n",
              "    .dataframe thead th {\n",
              "        text-align: right;\n",
              "    }\n",
              "</style>\n",
              "<table border=\"1\" class=\"dataframe\">\n",
              "  <thead>\n",
              "    <tr style=\"text-align: right;\">\n",
              "      <th></th>\n",
              "      <th>employers_count</th>\n",
              "    </tr>\n",
              "  </thead>\n",
              "  <tbody>\n",
              "    <tr>\n",
              "      <th>0</th>\n",
              "      <td>3553</td>\n",
              "    </tr>\n",
              "  </tbody>\n",
              "</table>\n",
              "</div>"
            ],
            "text/plain": [
              "   employers_count\n",
              "0             3553"
            ]
          },
          "execution_count": 31,
          "metadata": {},
          "output_type": "execute_result"
        }
      ],
      "source": [
        "query = f'''\n",
        "SELECT\n",
        "    COUNT(DISTINCT ei.employer_id) AS employers_count\n",
        "FROM\n",
        "    employers_industries ei\n",
        "JOIN\n",
        "    industries i ON ei.industry_id = i.id\n",
        "WHERE\n",
        "    i.name = 'Разработка программного обеспечения';\n",
        "'''\n",
        "df = pd.read_sql_query(query, connection)\n",
        "df"
      ]
    },
    {
      "cell_type": "markdown",
      "id": "14ee03cb",
      "metadata": {},
      "source": [
        "5.7 Для компании «Яндекс» выведите список регионов-миллионников , в которых представлены вакансии компании, вместе с количеством вакансий в этих регионах. Также добавьте строку Total с общим количеством вакансий компании, собранных в этой таблице. Должна получиться выборка такого вида (приведён пример результата для компании SberTech):"
      ]
    },
    {
      "cell_type": "code",
      "execution_count": 32,
      "id": "18a8962e",
      "metadata": {},
      "outputs": [
        {
          "name": "stderr",
          "output_type": "stream",
          "text": [
            "C:\\Users\\foret\\AppData\\Local\\Temp\\ipykernel_8532\\2380697502.py:49: UserWarning: pandas only supports SQLAlchemy connectable (engine/connection) or database string URI or sqlite3 DBAPI2 connection. Other DBAPI2 objects are not tested. Please consider using SQLAlchemy.\n",
            "  df = pd.read_sql_query(query, connection)\n"
          ]
        },
        {
          "data": {
            "text/html": [
              "<div>\n",
              "<style scoped>\n",
              "    .dataframe tbody tr th:only-of-type {\n",
              "        vertical-align: middle;\n",
              "    }\n",
              "\n",
              "    .dataframe tbody tr th {\n",
              "        vertical-align: top;\n",
              "    }\n",
              "\n",
              "    .dataframe thead th {\n",
              "        text-align: right;\n",
              "    }\n",
              "</style>\n",
              "<table border=\"1\" class=\"dataframe\">\n",
              "  <thead>\n",
              "    <tr style=\"text-align: right;\">\n",
              "      <th></th>\n",
              "      <th>region</th>\n",
              "      <th>vacancy_count</th>\n",
              "    </tr>\n",
              "  </thead>\n",
              "  <tbody>\n",
              "    <tr>\n",
              "      <th>0</th>\n",
              "      <td>Волгоград</td>\n",
              "      <td>24</td>\n",
              "    </tr>\n",
              "    <tr>\n",
              "      <th>1</th>\n",
              "      <td>Воронеж</td>\n",
              "      <td>32</td>\n",
              "    </tr>\n",
              "    <tr>\n",
              "      <th>2</th>\n",
              "      <td>Екатеринбург</td>\n",
              "      <td>39</td>\n",
              "    </tr>\n",
              "    <tr>\n",
              "      <th>3</th>\n",
              "      <td>Казань</td>\n",
              "      <td>25</td>\n",
              "    </tr>\n",
              "    <tr>\n",
              "      <th>4</th>\n",
              "      <td>Краснодар</td>\n",
              "      <td>30</td>\n",
              "    </tr>\n",
              "    <tr>\n",
              "      <th>5</th>\n",
              "      <td>Красноярск</td>\n",
              "      <td>23</td>\n",
              "    </tr>\n",
              "    <tr>\n",
              "      <th>6</th>\n",
              "      <td>Москва</td>\n",
              "      <td>54</td>\n",
              "    </tr>\n",
              "    <tr>\n",
              "      <th>7</th>\n",
              "      <td>Нижний Новгород</td>\n",
              "      <td>36</td>\n",
              "    </tr>\n",
              "    <tr>\n",
              "      <th>8</th>\n",
              "      <td>Новосибирск</td>\n",
              "      <td>35</td>\n",
              "    </tr>\n",
              "    <tr>\n",
              "      <th>9</th>\n",
              "      <td>Омск</td>\n",
              "      <td>21</td>\n",
              "    </tr>\n",
              "    <tr>\n",
              "      <th>10</th>\n",
              "      <td>Пермь</td>\n",
              "      <td>25</td>\n",
              "    </tr>\n",
              "    <tr>\n",
              "      <th>11</th>\n",
              "      <td>Ростов-на-Дону</td>\n",
              "      <td>25</td>\n",
              "    </tr>\n",
              "    <tr>\n",
              "      <th>12</th>\n",
              "      <td>Самара</td>\n",
              "      <td>26</td>\n",
              "    </tr>\n",
              "    <tr>\n",
              "      <th>13</th>\n",
              "      <td>Санкт-Петербург</td>\n",
              "      <td>42</td>\n",
              "    </tr>\n",
              "    <tr>\n",
              "      <th>14</th>\n",
              "      <td>Уфа</td>\n",
              "      <td>26</td>\n",
              "    </tr>\n",
              "    <tr>\n",
              "      <th>15</th>\n",
              "      <td>Челябинск</td>\n",
              "      <td>22</td>\n",
              "    </tr>\n",
              "    <tr>\n",
              "      <th>16</th>\n",
              "      <td>Total</td>\n",
              "      <td>485</td>\n",
              "    </tr>\n",
              "  </tbody>\n",
              "</table>\n",
              "</div>"
            ],
            "text/plain": [
              "             region  vacancy_count\n",
              "0         Волгоград             24\n",
              "1           Воронеж             32\n",
              "2      Екатеринбург             39\n",
              "3            Казань             25\n",
              "4         Краснодар             30\n",
              "5        Красноярск             23\n",
              "6            Москва             54\n",
              "7   Нижний Новгород             36\n",
              "8       Новосибирск             35\n",
              "9              Омск             21\n",
              "10            Пермь             25\n",
              "11   Ростов-на-Дону             25\n",
              "12           Самара             26\n",
              "13  Санкт-Петербург             42\n",
              "14              Уфа             26\n",
              "15        Челябинск             22\n",
              "16            Total            485"
            ]
          },
          "execution_count": 32,
          "metadata": {},
          "output_type": "execute_result"
        }
      ],
      "source": [
        "query = f'''\n",
        "SELECT\n",
        "    region,\n",
        "    vacancy_count\n",
        "FROM (\n",
        "    SELECT\n",
        "        a.name AS region,\n",
        "        COUNT(v.id) AS vacancy_count,\n",
        "        1 AS sort_order  -- Регионы идут первыми\n",
        "    FROM\n",
        "        vacancies v\n",
        "    JOIN\n",
        "        employers e ON v.employer_id = e.id\n",
        "    JOIN\n",
        "        areas a ON v.area_id = a.id\n",
        "    WHERE\n",
        "        e.name = 'Яндекс'\n",
        "        AND a.name IN (\n",
        "            'Москва', 'Санкт-Петербург', 'Новосибирск', 'Екатеринбург', 'Казань',\n",
        "            'Красноярск', 'Нижний Новгород', 'Челябинск', 'Уфа', 'Самара',\n",
        "            'Ростов-на-Дону', 'Краснодар', 'Омск', 'Воронеж', 'Пермь', 'Волгоград'\n",
        "        )\n",
        "    GROUP BY\n",
        "        a.name\n",
        "\n",
        "    UNION ALL\n",
        "\n",
        "    SELECT\n",
        "        'Total' AS region,\n",
        "        COUNT(v.id) AS vacancy_count,\n",
        "        2 AS sort_order  -- Total идёт последним\n",
        "    FROM\n",
        "        vacancies v\n",
        "    JOIN\n",
        "        employers e ON v.employer_id = e.id\n",
        "    JOIN\n",
        "        areas a ON v.area_id = a.id\n",
        "    WHERE\n",
        "        e.name = 'Яндекс'\n",
        "        AND a.name IN (\n",
        "            'Москва', 'Санкт-Петербург', 'Новосибирск', 'Екатеринбург', 'Казань',\n",
        "            'Красноярск', 'Нижний Новгород', 'Челябинск', 'Уфа', 'Самара',\n",
        "            'Ростов-на-Дону', 'Краснодар', 'Омск', 'Воронеж', 'Пермь', 'Волгоград'\n",
        "        )\n",
        ") AS result\n",
        "ORDER BY\n",
        "    sort_order, region;\n",
        "'''\n",
        "df = pd.read_sql_query(query, connection)\n",
        "df"
      ]
    },
    {
      "cell_type": "markdown",
      "id": "d80b03ee",
      "metadata": {},
      "source": [
        "### ВЫВОДЫ:"
      ]
    },
    {
      "cell_type": "markdown",
      "id": "41d2f913",
      "metadata": {},
      "source": [
        "``Доминирование крупных IT-компаний и банков``:Крупные компании, такие как Яндекс, Ростелеком и СБЕР, занимают лидирующие позиции по количеству вакансий и географическому охвату.   \n",
        "``Региональное распределение``: Даже в регионах без вакансий есть активные работодатели, что может быть связано с особенностями их бизнеса. Крупные компании активно представлены в регионах-миллионниках.  \n",
        "``IT-сфера``: Сфера «Разработка программного обеспечения» остается одной из самых востребованных, что подтверждается количеством работодателей в этой области.  \n",
        "``Неполнота данных``: Значительное количество работодателей не указывает сферу деятельности, что затрудняет анализ рынка труда.  "
      ]
    },
    {
      "cell_type": "markdown",
      "id": "dab21d80",
      "metadata": {},
      "source": [
        "==================================================================================================================="
      ]
    },
    {
      "cell_type": "markdown",
      "id": "9905895a",
      "metadata": {},
      "source": [
        "### 6. Предметный анализ"
      ]
    },
    {
      "cell_type": "markdown",
      "id": "e7e36d85",
      "metadata": {},
      "source": [
        "6.1 Сколько вакансий имеет отношение к данным(считаем что вакансия имеет отношение к данным если в названии содержатся строки 'data' или  'данн')"
      ]
    },
    {
      "cell_type": "code",
      "execution_count": 33,
      "id": "336689d6",
      "metadata": {},
      "outputs": [
        {
          "name": "stderr",
          "output_type": "stream",
          "text": [
            "C:\\Users\\foret\\AppData\\Local\\Temp\\ipykernel_8532\\607628856.py:10: UserWarning: pandas only supports SQLAlchemy connectable (engine/connection) or database string URI or sqlite3 DBAPI2 connection. Other DBAPI2 objects are not tested. Please consider using SQLAlchemy.\n",
            "  df = pd.read_sql_query(query, connection)\n"
          ]
        },
        {
          "data": {
            "text/html": [
              "<div>\n",
              "<style scoped>\n",
              "    .dataframe tbody tr th:only-of-type {\n",
              "        vertical-align: middle;\n",
              "    }\n",
              "\n",
              "    .dataframe tbody tr th {\n",
              "        vertical-align: top;\n",
              "    }\n",
              "\n",
              "    .dataframe thead th {\n",
              "        text-align: right;\n",
              "    }\n",
              "</style>\n",
              "<table border=\"1\" class=\"dataframe\">\n",
              "  <thead>\n",
              "    <tr style=\"text-align: right;\">\n",
              "      <th></th>\n",
              "      <th>data_related_vacancies</th>\n",
              "    </tr>\n",
              "  </thead>\n",
              "  <tbody>\n",
              "    <tr>\n",
              "      <th>0</th>\n",
              "      <td>1771</td>\n",
              "    </tr>\n",
              "  </tbody>\n",
              "</table>\n",
              "</div>"
            ],
            "text/plain": [
              "   data_related_vacancies\n",
              "0                    1771"
            ]
          },
          "execution_count": 33,
          "metadata": {},
          "output_type": "execute_result"
        }
      ],
      "source": [
        "query = f'''\n",
        "SELECT\n",
        "    COUNT(*) AS data_related_vacancies\n",
        "FROM\n",
        "    vacancies\n",
        "WHERE\n",
        "    LOWER(name) LIKE '%data%'\n",
        "    OR LOWER(name) LIKE '%данн%';\n",
        "'''\n",
        "df = pd.read_sql_query(query, connection)\n",
        "df"
      ]
    },
    {
      "cell_type": "markdown",
      "id": "2f4e023a",
      "metadata": {},
      "source": [
        "6.2 Сколько есть подходящих вакансий для начинающего дата-сайентиста?\n",
        "\n",
        "Будем считать вакансиями для дата-сайентистов такие, в названии которых есть хотя бы одно из следующих сочетаний:\n",
        "\n",
        "‘data scientist’;  \n",
        "‘data science’;  \n",
        "‘исследователь данных’;  \n",
        "‘ML’ (здесь не нужно брать вакансии по HTML);  \n",
        "‘machine learning’;  \n",
        "‘машинн%обучен%’.  \n",
        "В следующих заданиях мы продолжим работать с вакансиями по указанному выше условию (уже не учитывая вакансии уровня Junior).\n",
        "\n",
        "Считаем вакансиями для специалистов уровня Junior следующие:\n",
        "\n",
        "в названии есть слово “junior” или\n",
        "требуемый опыт — «Нет опыта» или\n",
        "тип трудоустройства — «Стажировка»."
      ]
    },
    {
      "cell_type": "code",
      "execution_count": 34,
      "id": "4a5047d4",
      "metadata": {},
      "outputs": [
        {
          "name": "stderr",
          "output_type": "stream",
          "text": [
            "C:\\Users\\foret\\AppData\\Local\\Temp\\ipykernel_8532\\3829458159.py:21: UserWarning: pandas only supports SQLAlchemy connectable (engine/connection) or database string URI or sqlite3 DBAPI2 connection. Other DBAPI2 objects are not tested. Please consider using SQLAlchemy.\n",
            "  df = pd.read_sql_query(query, connection)\n"
          ]
        },
        {
          "data": {
            "text/html": [
              "<div>\n",
              "<style scoped>\n",
              "    .dataframe tbody tr th:only-of-type {\n",
              "        vertical-align: middle;\n",
              "    }\n",
              "\n",
              "    .dataframe tbody tr th {\n",
              "        vertical-align: top;\n",
              "    }\n",
              "\n",
              "    .dataframe thead th {\n",
              "        text-align: right;\n",
              "    }\n",
              "</style>\n",
              "<table border=\"1\" class=\"dataframe\">\n",
              "  <thead>\n",
              "    <tr style=\"text-align: right;\">\n",
              "      <th></th>\n",
              "      <th>junior_data_scientist_vacancies</th>\n",
              "    </tr>\n",
              "  </thead>\n",
              "  <tbody>\n",
              "    <tr>\n",
              "      <th>0</th>\n",
              "      <td>51</td>\n",
              "    </tr>\n",
              "  </tbody>\n",
              "</table>\n",
              "</div>"
            ],
            "text/plain": [
              "   junior_data_scientist_vacancies\n",
              "0                               51"
            ]
          },
          "execution_count": 34,
          "metadata": {},
          "output_type": "execute_result"
        }
      ],
      "source": [
        "query = f'''\n",
        "SELECT\n",
        "    COUNT(*) AS junior_data_scientist_vacancies\n",
        "FROM\n",
        "    vacancies\n",
        "WHERE\n",
        "    (\n",
        "        LOWER(name) LIKE '%data scientist%'\n",
        "        OR LOWER(name) LIKE '%data science%'\n",
        "        OR LOWER(name) LIKE '%исследователь данных%'\n",
        "        OR (LOWER(name) LIKE '%ml%' AND LOWER(name) NOT LIKE '%html%')\n",
        "        OR LOWER(name) LIKE '%machine learning%'\n",
        "        OR LOWER(name) LIKE '%машинн%обучен%'\n",
        "    )\n",
        "    AND (\n",
        "        LOWER(name) LIKE '%junior%'\n",
        "        OR LOWER(experience) = 'нет опыта'\n",
        "        OR LOWER(employment) = 'стажировка'\n",
        "    );\n",
        "'''\n",
        "df = pd.read_sql_query(query, connection)\n",
        "df"
      ]
    },
    {
      "cell_type": "markdown",
      "id": "2b0f1b01",
      "metadata": {},
      "source": [
        "6.3 Сколько есть вакансий для DS, в которых в качестве ключевого навыка указан SQL или postgres?\n"
      ]
    },
    {
      "cell_type": "code",
      "execution_count": 35,
      "id": "ecc645f8",
      "metadata": {},
      "outputs": [
        {
          "name": "stderr",
          "output_type": "stream",
          "text": [
            "C:\\Users\\foret\\AppData\\Local\\Temp\\ipykernel_8532\\3706435884.py:20: UserWarning: pandas only supports SQLAlchemy connectable (engine/connection) or database string URI or sqlite3 DBAPI2 connection. Other DBAPI2 objects are not tested. Please consider using SQLAlchemy.\n",
            "  df = pd.read_sql_query(query, connection)\n"
          ]
        },
        {
          "data": {
            "text/html": [
              "<div>\n",
              "<style scoped>\n",
              "    .dataframe tbody tr th:only-of-type {\n",
              "        vertical-align: middle;\n",
              "    }\n",
              "\n",
              "    .dataframe tbody tr th {\n",
              "        vertical-align: top;\n",
              "    }\n",
              "\n",
              "    .dataframe thead th {\n",
              "        text-align: right;\n",
              "    }\n",
              "</style>\n",
              "<table border=\"1\" class=\"dataframe\">\n",
              "  <thead>\n",
              "    <tr style=\"text-align: right;\">\n",
              "      <th></th>\n",
              "      <th>ds_vacancies_with_sql_or_postgres</th>\n",
              "    </tr>\n",
              "  </thead>\n",
              "  <tbody>\n",
              "    <tr>\n",
              "      <th>0</th>\n",
              "      <td>229</td>\n",
              "    </tr>\n",
              "  </tbody>\n",
              "</table>\n",
              "</div>"
            ],
            "text/plain": [
              "   ds_vacancies_with_sql_or_postgres\n",
              "0                                229"
            ]
          },
          "execution_count": 35,
          "metadata": {},
          "output_type": "execute_result"
        }
      ],
      "source": [
        "query = f'''\n",
        "SELECT\n",
        "    COUNT(DISTINCT v.id) AS ds_vacancies_with_sql_or_postgres\n",
        "FROM\n",
        "    vacancies v\n",
        "WHERE\n",
        "    (\n",
        "        LOWER(v.name) LIKE '%data scientist%'\n",
        "        OR LOWER(v.name) LIKE '%data science%'\n",
        "        OR LOWER(v.name) LIKE '%исследователь данных%'\n",
        "        OR (LOWER(v.name) LIKE '%ml%' AND LOWER(v.name) NOT LIKE '%html%')\n",
        "        OR LOWER(v.name) LIKE '%machine learning%'\n",
        "        OR LOWER(v.name) LIKE '%машинн%обучен%'\n",
        "    )\n",
        "    AND (\n",
        "        LOWER(v.key_skills) LIKE '%sql%'\n",
        "        OR LOWER(v.key_skills) LIKE '%postgres%'\n",
        "    );\n",
        "'''\n",
        "df = pd.read_sql_query(query, connection)\n",
        "df"
      ]
    },
    {
      "cell_type": "markdown",
      "id": "fbe68adc",
      "metadata": {},
      "source": [
        "6.4 С помощью запроса, аналогичного предыдущему, проверьте, насколько популярен Python в требованиях работодателей к DS. Вычислите количество вакансий, в которых в качестве ключевого навыка указан Python."
      ]
    },
    {
      "cell_type": "code",
      "execution_count": 36,
      "id": "6fa06371",
      "metadata": {},
      "outputs": [
        {
          "name": "stderr",
          "output_type": "stream",
          "text": [
            "C:\\Users\\foret\\AppData\\Local\\Temp\\ipykernel_8532\\2466430918.py:17: UserWarning: pandas only supports SQLAlchemy connectable (engine/connection) or database string URI or sqlite3 DBAPI2 connection. Other DBAPI2 objects are not tested. Please consider using SQLAlchemy.\n",
            "  df = pd.read_sql_query(query, connection)\n"
          ]
        },
        {
          "data": {
            "text/html": [
              "<div>\n",
              "<style scoped>\n",
              "    .dataframe tbody tr th:only-of-type {\n",
              "        vertical-align: middle;\n",
              "    }\n",
              "\n",
              "    .dataframe tbody tr th {\n",
              "        vertical-align: top;\n",
              "    }\n",
              "\n",
              "    .dataframe thead th {\n",
              "        text-align: right;\n",
              "    }\n",
              "</style>\n",
              "<table border=\"1\" class=\"dataframe\">\n",
              "  <thead>\n",
              "    <tr style=\"text-align: right;\">\n",
              "      <th></th>\n",
              "      <th>ds_vacancies_with_python</th>\n",
              "    </tr>\n",
              "  </thead>\n",
              "  <tbody>\n",
              "    <tr>\n",
              "      <th>0</th>\n",
              "      <td>357</td>\n",
              "    </tr>\n",
              "  </tbody>\n",
              "</table>\n",
              "</div>"
            ],
            "text/plain": [
              "   ds_vacancies_with_python\n",
              "0                       357"
            ]
          },
          "execution_count": 36,
          "metadata": {},
          "output_type": "execute_result"
        }
      ],
      "source": [
        "query = f'''\n",
        "SELECT\n",
        "    COUNT(DISTINCT v.id) AS ds_vacancies_with_python\n",
        "FROM\n",
        "    vacancies v\n",
        "WHERE\n",
        "    (\n",
        "        LOWER(v.name) LIKE '%data scientist%'\n",
        "        OR LOWER(v.name) LIKE '%data science%'\n",
        "        OR LOWER(v.name) LIKE '%исследователь данных%'\n",
        "        OR (LOWER(v.name) LIKE '%ml%' AND LOWER(v.name) NOT LIKE '%html%')\n",
        "        OR LOWER(v.name) LIKE '%machine learning%'\n",
        "        OR LOWER(v.name) LIKE '%машинн%обучен%'\n",
        "    )\n",
        "    AND LOWER(v.key_skills) LIKE '%python%';\n",
        "'''\n",
        "df = pd.read_sql_query(query, connection)\n",
        "df"
      ]
    },
    {
      "cell_type": "markdown",
      "id": "b8b68e2a",
      "metadata": {},
      "source": [
        "6.5 Сколько ключевых навыков в среднем указывают в вакансиях для DS?\n",
        "\n",
        "Ответ округлите до двух знаков после точки-разделителя."
      ]
    },
    {
      "cell_type": "code",
      "execution_count": 37,
      "id": "8a7a10ed",
      "metadata": {},
      "outputs": [
        {
          "name": "stderr",
          "output_type": "stream",
          "text": [
            "C:\\Users\\foret\\AppData\\Local\\Temp\\ipykernel_8532\\2445876122.py:23: UserWarning: pandas only supports SQLAlchemy connectable (engine/connection) or database string URI or sqlite3 DBAPI2 connection. Other DBAPI2 objects are not tested. Please consider using SQLAlchemy.\n",
            "  df = pd.read_sql_query(query, connection)\n"
          ]
        },
        {
          "data": {
            "text/html": [
              "<div>\n",
              "<style scoped>\n",
              "    .dataframe tbody tr th:only-of-type {\n",
              "        vertical-align: middle;\n",
              "    }\n",
              "\n",
              "    .dataframe tbody tr th {\n",
              "        vertical-align: top;\n",
              "    }\n",
              "\n",
              "    .dataframe thead th {\n",
              "        text-align: right;\n",
              "    }\n",
              "</style>\n",
              "<table border=\"1\" class=\"dataframe\">\n",
              "  <thead>\n",
              "    <tr style=\"text-align: right;\">\n",
              "      <th></th>\n",
              "      <th>ds_vacancies_with_python</th>\n",
              "    </tr>\n",
              "  </thead>\n",
              "  <tbody>\n",
              "    <tr>\n",
              "      <th>0</th>\n",
              "      <td>357</td>\n",
              "    </tr>\n",
              "  </tbody>\n",
              "</table>\n",
              "</div>"
            ],
            "text/plain": [
              "   ds_vacancies_with_python\n",
              "0                       357"
            ]
          },
          "execution_count": 37,
          "metadata": {},
          "output_type": "execute_result"
        }
      ],
      "source": [
        "\n",
        "query_6_5 = f'''\n",
        "SELECT\n",
        "    ROUND(AVG(skill_count), 2) AS avg_skills\n",
        "FROM (\n",
        "    SELECT\n",
        "        v.id,\n",
        "        LENGTH(v.key_skills) - LENGTH(REPLACE(v.key_skills, CHR(9), '')) + 1 AS skill_count\n",
        "    FROM\n",
        "        vacancies v\n",
        "    WHERE\n",
        "        (\n",
        "            LOWER(v.name) LIKE '%data scientist%'\n",
        "            OR LOWER(v.name) LIKE '%data science%'\n",
        "            OR LOWER(v.name) LIKE '%исследователь данных%'\n",
        "            OR (LOWER(v.name) LIKE '%ml%' AND LOWER(v.name) NOT LIKE '%html%')\n",
        "            OR LOWER(v.name) LIKE '%machine learning%'\n",
        "            OR LOWER(v.name) LIKE '%машинн%обучен%'\n",
        "        )\n",
        "        AND v.key_skills IS NOT NULL\n",
        "        AND v.key_skills != ''\n",
        ") AS skill_counts;\n",
        "'''\n",
        "df = pd.read_sql_query(query, connection)\n",
        "df"
      ]
    },
    {
      "cell_type": "markdown",
      "id": "609c5fa5",
      "metadata": {},
      "source": [
        "6.6 Напишите запрос, позволяющий вычислить, какую зарплату для DS в среднем указывают для каждого типа требуемого опыта (уникальное значение из поля experience).\n",
        "\n",
        "При решении задачи примите во внимание следующее:\n",
        "\n",
        "- Рассматриваем только вакансии, у которых заполнено хотя бы одно из двух полей с зарплатой.\n",
        "- Если заполнены оба поля с зарплатой, считаем зарплату по каждой вакансии как сумму двух полей, делённую на 2. Если заполнено только одно из полей, его и считаем зарплатой по вакансии.\n",
        "- Если в расчётах участвует null, в результате он тоже даст null (посмотрите, что возвращает запрос select 1 + null).\n",
        "Чтобы избежать этой ситуации, мы воспользуемся функцией coalesce , которая заменит null на значение, которое мы передадим. Например, посмотрите, что возвращает запрос select 1 + coalesce(null, 0).\n",
        "\n",
        "\n",
        "Выясните, на какую зарплату в среднем может рассчитывать дата-сайентист с опытом работы от 3 до 6 лет. Результат округлите до целого числа."
      ]
    },
    {
      "cell_type": "code",
      "execution_count": 38,
      "id": "570368dd",
      "metadata": {},
      "outputs": [
        {
          "name": "stderr",
          "output_type": "stream",
          "text": [
            "C:\\Users\\foret\\AppData\\Local\\Temp\\ipykernel_8532\\620880460.py:22: UserWarning: pandas only supports SQLAlchemy connectable (engine/connection) or database string URI or sqlite3 DBAPI2 connection. Other DBAPI2 objects are not tested. Please consider using SQLAlchemy.\n",
            "  df = pd.read_sql_query(query, connection)\n"
          ]
        },
        {
          "data": {
            "text/html": [
              "<div>\n",
              "<style scoped>\n",
              "    .dataframe tbody tr th:only-of-type {\n",
              "        vertical-align: middle;\n",
              "    }\n",
              "\n",
              "    .dataframe tbody tr th {\n",
              "        vertical-align: top;\n",
              "    }\n",
              "\n",
              "    .dataframe thead th {\n",
              "        text-align: right;\n",
              "    }\n",
              "</style>\n",
              "<table border=\"1\" class=\"dataframe\">\n",
              "  <thead>\n",
              "    <tr style=\"text-align: right;\">\n",
              "      <th></th>\n",
              "      <th>experience</th>\n",
              "      <th>round</th>\n",
              "    </tr>\n",
              "  </thead>\n",
              "  <tbody>\n",
              "    <tr>\n",
              "      <th>0</th>\n",
              "      <td>Более 6 лет</td>\n",
              "      <td>NaN</td>\n",
              "    </tr>\n",
              "    <tr>\n",
              "      <th>1</th>\n",
              "      <td>Нет опыта</td>\n",
              "      <td>74643.0</td>\n",
              "    </tr>\n",
              "    <tr>\n",
              "      <th>2</th>\n",
              "      <td>От 1 года до 3 лет</td>\n",
              "      <td>145236.0</td>\n",
              "    </tr>\n",
              "    <tr>\n",
              "      <th>3</th>\n",
              "      <td>От 3 до 6 лет</td>\n",
              "      <td>243115.0</td>\n",
              "    </tr>\n",
              "  </tbody>\n",
              "</table>\n",
              "</div>"
            ],
            "text/plain": [
              "           experience     round\n",
              "0         Более 6 лет       NaN\n",
              "1           Нет опыта   74643.0\n",
              "2  От 1 года до 3 лет  145236.0\n",
              "3       От 3 до 6 лет  243115.0"
            ]
          },
          "execution_count": 38,
          "metadata": {},
          "output_type": "execute_result"
        }
      ],
      "source": [
        "query = f'''\n",
        "select\n",
        "\n",
        "  v.experience, ROUND(AVG(coalesce((v.salary_from + v.salary_to) / 2, v.salary_from, v.salary_to)), 0)\n",
        "\n",
        "from vacancies v\n",
        "\n",
        "WHERE\n",
        "(\n",
        "       (v.name ILIKE '%data scientist%')\n",
        "    OR (lower(v.name) ILIKE '%data science%')\n",
        "    OR (v.name ILIKE '%исследователь данных%')\n",
        "    OR (v.name  LIKE '%ML%' AND  (v.name NOT iLIKE '%html%'))\n",
        "    OR (v.name ILIKE '%machine learning%')\n",
        "    OR (v.name ILIKE '%машинн%обучен%')\n",
        "    AND (key_skills IS NOT NULL)\n",
        ")\n",
        "\n",
        "GROUP BY v.experience\n",
        "ORDER BY 1\n",
        "'''\n",
        "df = pd.read_sql_query(query, connection)\n",
        "df"
      ]
    },
    {
      "cell_type": "markdown",
      "id": "635338fd",
      "metadata": {},
      "source": [
        "### ВЫВОДЫ:"
      ]
    },
    {
      "cell_type": "markdown",
      "id": "2c43365a",
      "metadata": {},
      "source": [
        "``Высокий спрос на специалистов по данным``: Рынок труда активно развивается в направлении работы с данными, что подтверждается большим количеством вакансий, связанных с этой сферой.  \n",
        "``Важность ключевых навыков``: SQL, Postgres и Python являются ключевыми навыками для дата-сайентистов. Их знание значительно повышает шансы на трудоустройство.  \n",
        "``Конкуренция среди начинающих специалистов``: Количество вакансий для начинающих дата-сайентистов (Junior) невелико, что указывает на высокую конкуренцию в этой категории.  \n",
        "``Зарплата и опыт``: Зарплата дата-сайентистов значительно увеличивается с опытом работы. Специалисты с опытом от 3 до 6 лет могут рассчитывать на высокую зарплату.  \n",
        "``Высокие требования к навыкам``: Работодатели ожидают от дата-сайентистов широкого набора навыков, что подчеркивает необходимость постоянного обучения и развития."
      ]
    },
    {
      "cell_type": "markdown",
      "id": "ce0962aa",
      "metadata": {},
      "source": [
        "### ЗАКЛЮЧЕНИЕ:"
      ]
    },
    {
      "cell_type": "markdown",
      "id": "89b5f5a0",
      "metadata": {},
      "source": [
        "Рынок труда демонстрирует высокую активность и разнообразие, с большим количеством вакансий и работодателей. IT-сфера и Data Science остаются одними из самых востребованных направлений, с высокими требованиями к навыкам и опыту. Для успешного трудоустройства и карьерного роста важно постоянно развивать свои навыки и следить за трендами рынка."
      ]
    }
  ],
  "metadata": {
    "colab": {
      "collapsed_sections": [],
      "provenance": []
    },
    "kernelspec": {
      "display_name": "Python 3",
      "language": "python",
      "name": "python3"
    },
    "language_info": {
      "codemirror_mode": {
        "name": "ipython",
        "version": 3
      },
      "file_extension": ".py",
      "mimetype": "text/x-python",
      "name": "python",
      "nbconvert_exporter": "python",
      "pygments_lexer": "ipython3",
      "version": "3.13.0"
    }
  },
  "nbformat": 4,
  "nbformat_minor": 5
}
